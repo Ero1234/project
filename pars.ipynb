{
 "cells": [
  {
   "cell_type": "code",
   "execution_count": 205,
   "id": "c20a2154",
   "metadata": {},
   "outputs": [],
   "source": [
    "from selenium import webdriver\n",
    "import requests\n",
    "import json\n",
    "import numpy\n",
    "import pandas\n",
    "import time\n",
    "from  fake_useragent import UserAgent\n",
    "from bs4 import BeautifulSoup"
   ]
  },
  {
   "cell_type": "code",
   "execution_count": 131,
   "id": "78b99351",
   "metadata": {},
   "outputs": [],
   "source": [
    "page_count=30"
   ]
  },
  {
   "cell_type": "code",
   "execution_count": 132,
   "id": "14052e68",
   "metadata": {},
   "outputs": [],
   "source": [
    "out_filename = 'out.json'"
   ]
  },
  {
   "cell_type": "code",
   "execution_count": null,
   "id": "a0c0b4e8",
   "metadata": {},
   "outputs": [],
   "source": []
  },
  {
   "cell_type": "code",
   "execution_count": 237,
   "id": "05b5873b",
   "metadata": {},
   "outputs": [],
   "source": [
    "def get_soup(url):    \n",
    "    driver = webdriver.Edge()\n",
    "    driver.get(url)\n",
    "    html_code = driver.page_source\n",
    "    soup = BeautifulSoup(html_code, features = 'html.parser')\n",
    "    \n",
    "    return soup   "
   ]
  },
  {
   "cell_type": "code",
   "execution_count": 238,
   "id": "113bc4f2",
   "metadata": {},
   "outputs": [],
   "source": [
    "\n",
    "def crawl_products(page_count):\n",
    "    urls = []\n",
    "    fmt = 'https://market.yandex.ru/catalog--tovary-so-skidkoi/61522/list?clid=703&allowCollapsing=1&local-offers-first=0&page{}'\n",
    "    for page_n in range(1, 1+page_count):\n",
    "        print('страница - {}'.format(page_n))\n",
    "        page_url = fmt.format(page_n)\n",
    "        soup = get_soup(page_url)\n",
    "        if soup is None:\n",
    "            break\n",
    "\n",
    "        for tag in soup.find_all('article', {'class': '_3yjG2 _1ItK0 cia-vs cia-cs'}):\n",
    "            href = tag.find('a')['href']\n",
    "\n",
    "            url = 'https://market.yandex.ru{}'.format(href)\n",
    "            urls.append(url)\n",
    "    return urls"
   ]
  },
  {
   "cell_type": "code",
   "execution_count": 239,
   "id": "f000f1b8",
   "metadata": {},
   "outputs": [],
   "source": [
    "def pars_products(urls):\n",
    "    data=[]\n",
    "    for url in urls:\n",
    "        print('\\tproduct: {}'.format(url))\n",
    "        \n",
    "        soup = get_soup(url)\n",
    "        name = soup.select_one('body > div._111XI.main > div:nth-child(6) > main > div:nth-child(10) > div > div > div._1_OV2._2NYys > div > div > div:nth-child(1) > div:nth-child(2) > h1').text.strip()\n",
    "        category = soup.select_one('body > div._111XI.main > div:nth-child(6) > main > div:nth-child(10) > div > div > div._1_OV2._2NYys > div > div > div:nth-child(1) > nav > ul > li:nth-child(2) > div.O3cQF.cia-cs > a > span').text[0:-10].strip()\n",
    "        price = soup.select_one('#cardAddButton > div:nth-child(2) > div > div > div > div > div._3BWiE > div._1il4y').find('h3', class_='_1He5n').text.split()[0].strip()\n",
    "    item = {'название':name, 'категория':category, 'цена':price}\n",
    "    data.append(item)\n",
    "    return data"
   ]
  },
  {
   "cell_type": "code",
   "execution_count": 240,
   "id": "0a22e77d",
   "metadata": {},
   "outputs": [],
   "source": [
    "def main():\n",
    "    urls = crawl_products(page_count)\n",
    "    data = pars_products(urls)\n",
    "    \n",
    "    with open(out_filename, 'w') as f:\n",
    "        json.dump(data, f, ensure_ascii=False, indent=1)"
   ]
  },
  {
   "cell_type": "code",
   "execution_count": 241,
   "id": "5ab7ec9e",
   "metadata": {},
   "outputs": [
    {
     "name": "stdout",
     "output_type": "stream",
     "text": [
      "страница - 1\n",
      "страница - 2\n",
      "страница - 3\n",
      "страница - 4\n",
      "страница - 5\n",
      "страница - 6\n",
      "страница - 7\n",
      "страница - 8\n",
      "страница - 9\n",
      "страница - 10\n",
      "страница - 11\n",
      "страница - 12\n",
      "страница - 13\n",
      "страница - 14\n",
      "страница - 15\n",
      "страница - 16\n",
      "страница - 17\n",
      "страница - 18\n",
      "страница - 19\n",
      "страница - 20\n",
      "страница - 21\n",
      "страница - 22\n",
      "страница - 23\n",
      "страница - 24\n",
      "страница - 25\n",
      "страница - 26\n",
      "страница - 27\n",
      "страница - 28\n",
      "страница - 29\n",
      "страница - 30\n",
      "\tproduct: https://market.yandex.ru/product--opolaskivatel-dlia-posudomoechnoi-mashiny-finish-shine-protect/1729924749?nid=82947&show-uid=16844491839213534866016001&context=search&sku=100235939297&cpc=6heX9rtscih64gP28LkvxVZ5l_-DWtBcjw8pYvUZyqOMykQ3-lCxTExbKJ6ue2OQ4wc9NZ3XQGsZXGE6H8YEKi2RZQuw25LNya66aExv9cyqdXZGHV3S-KAwDypF2CddH0KtsHYxTKyt3YM4SgWY-FvgQRqprzw_VZnJa6n9UhMsb7lQKv4VKqvyXoCPqM8L_DTuauDHCzc%2C&do-waremd5=1yPpHrEsbthXTbPwxxhvIA\n",
      "\tproduct: https://market.yandex.ru/product--always-prokladki-ultra-sensitive-normal-plus-4-kapli/1729319967?nid=64650&show-uid=16844491839213534866016002&context=search&sku=100321107667&cpc=6heX9rtscigqyV_C6DSMlZvNovEShfjgU4xd3VhkT8jH7eKEhefW222Ib5vUsFkROUbNVdHxtA7E4_GhKyYrv5H30N6PuWrbDY2_kg9Nd_61YhT1cdwjUkgF7Nw8q0kjoUasKzYVR0m9HNNWpxINWEom_b7unhqDVpJ1aHBcYNk0q4G_sf1L-wM0RfvY51j41iD60NrPmbbkC9C3NSWs2GNhDrECHLuUrBDEZ8YrBBmfGz9kh2ItiXoj9HWxfrmuS30biq4XOoURxMATkiYcKw%2C%2C&do-waremd5=c_ChlSUpny2RjapdsPE-2g\n",
      "\tproduct: https://market.yandex.ru/product--synergetic-konditsioner-dlia-belia-aromamagiia/1972055281?nid=82947&show-uid=16844491839213534866016003&context=search&sku=100285282834&cpc=6heX9rtscigEd9Lgz3yaDXFcaqRgmIU-4GUHHaQlB43zE_5qnRT1amN6_OB2zqEcYNb1W32pkqE3wTaSrHiV7VOHP26FQYlR2Pqqatb_G66AC-FKAHtrDife5CDIZ6YdbdIYALeasKw3ZsjtgZWn18al7I9HrGBzRkN-5-ai7XDMSmBsAVg6X2Suc-EByHYpRCsx0WJJrk3nrO0aZVk5nxGEl5omIV6zd6etZ-ovQb01tFDy87dxfKHpzpphjN9u1R8lPuccQR0O4nhNWXluKQ%2C%2C&do-waremd5=Q9r5gN8QFBeGF8V0_0ocvQ\n",
      "\tproduct: https://market.yandex.ru/product--rastvor-bausch-lomb-renu-multiplus-s-konteinerom/1731186445?nid=17346618&show-uid=16844491839213534866016004&context=search&sku=100304737125&cpc=6heX9rtscigny7RJq0GRfxl-cLJdzm_XCO1X5O4r9jnecp7xwoXfovzqpRiQSwdWNwwqK7OrFgmh5jSYREDbDBmAUv8Zkx_-4gfnxI1HFux8OOXn89JcFmhnZulXTpfyDiyhd3N4zO3CeiLgnJgDbGLfIHRsTi-Uh_1v2A4Em1jWq64MwIB_fOwewXW6uTgPSWaF-Oljn4ftI4tkMR0osG7-vDjdfd8OF5uXOtiTnR_aSVRJritYh0bwkp9RKODFZLrjqATIO7JLliApVQkzBQ%2C%2C&do-waremd5=dGH_aKayeWAAMzWOjGOPrw\n",
      "\tproduct: https://market.yandex.ru/product--always-prokladki-ultra-normal-4-kapli/1729320008?nid=64650&show-uid=16844491839213534866016005&context=search&sku=100321107613&cpc=6heX9rtsciiqU0_PwvwTjKJNquFK5sIVk3rT-AUpkVHGGp1X20pJgK1I9G1K88SvlSU1GIg-QJzOLeSR81Uncev-y0NWucSV9uDhPC0Lz-WwPesbhHrYrXKkRk8zAENUF3zU68jbxa_pkemiiZb2DSlPifOPjJT1cjZGRAyU4_QbP-62r1NZgBa_5W3mSkisnGT3t0J7WTQkr395OqNrpZkYmLIlLspZvZei_AoPh7PErn6umrvxBKpdeODTGp8LJwCYNnbTEPl06DrHSejBYw%2C%2C&do-waremd5=fy92_BzLq0azhRYUxW_a7g\n",
      "\tproduct: https://market.yandex.ru/product--organic-kitchen-maska-lifting-dlia-litsa-ukol-krasoty/1825688398?nid=64650&show-uid=16844491839213534866016006&context=search&sku=100326875846&cpc=6heX9rtsciiHbIa-vnuZzn3B42tXFOG6DLiuYty8phfl4R4XBSBzDS4sAoVWZnqZYJcv64rkIRGcB0aAQP3OdWmuzluIMivqR-icIHQDFH3Hd8w4ZZkXZR2GtvMvQnp2RttJDBliOaaustXIneNSPKklaI4BNXhEaKUW-vFubKicrFBeawS5HXpRe6HNUxDquSX57M56sjRZg4ziIy5FhqTEhu0Sx0lnzNDvEK6leTzHu7zwJ7L0rZrlNnM8ht4VrClb6wngRkwr4mB8SkjxNA%2C%2C&do-waremd5=jbmkUhAOG5cOb2NJw-pcyg\n",
      "\tproduct: https://market.yandex.ru/product--e-konditsioner-dlia-belia-fresh/1971887149?nid=82947&show-uid=16844491839213534866016007&context=search&sku=100391755103&cpc=6heX9rtscigcNkTPAx1i0drIf-Zhu03XFw4X0y8AS8bMjlIuWc-3EtSg_5YOUEihmHreu80LOnm4OCQbaAO5GtrdEgoIHTZqaEf_GWOSyLSyNoaCucdWVdhrcb7N1vV_feMxL643kE_uOafuRLN3tYtHji3MNE7KfUX29Fc-zyGmj8Xs4-A2wkC1a7ls73sPtHITE2mc_NWq_m0K0EReEKcZKtbmzACSmHa5V7JG8tV_CGEsIGRZX2oB2ZKUqhLfvtSLsa4GXnjd8POHXSO8Cw%2C%2C&do-waremd5=IW90aj6VixefsJV7XOc_SA\n",
      "\tproduct: https://market.yandex.ru/product--synergetic-kontsentrirovannyi-konditsioner-dlia-detskogo-belia-nezhnoe-prikosnovenie/138726417?nid=82947&show-uid=16844491839213534866016008&context=search&sku=100390567565&cpc=6heX9rtscihNtLCVSkDdXTc2uzWrdcTBuDfU-BDtuHh2N5mjxpwm4hMO9sTl1eApne8vs92-hACVKSx0epIM-3FQ5gyfjqQHBoja3pi47qzmQSCih9lpO2dt1zdr4SR0qWy0-qMr6jGZwVFAQJIBYt-qHJ-C4a0Vhi1-FsuWtBpqGbHbAF-YlQBxodJGfLsK__76ADK0ZUL_-byDr9KB20t-aiY7vggxryLkhJP5QfgTZgIs9gH0po4PsHpCUq9bjawRMnymGzKAOHCMunD-Mg%2C%2C&do-waremd5=tJG3SNbZUXKjOJM4_s40wQ\n",
      "\tproduct: https://market.yandex.ru/product--chistaia-liniia-chistaia-liniia-ochishchaiushchii-skrab-dlia-litsa-dlia-kombinirovannoi-kozhi-s-abrikosovymi-kostochkami/70796487?nid=64650&show-uid=16844491839213534866016009&context=search&sku=100345197841&cpc=6heX9rtscigD8uTL8vgjiztrjy6DEBH-SuhgHDqE4O5_8oXsBev5jNKfg4HnvAfSLKkVKc6em8vhaYxRpXzEgy7NhRCSLCYPISFO2qgedU9HDO9aVhVBp-eSHN9QxqPrP5gi6nctwiL62_3m643DB-ZAGQeVIzLbE9c0QFtBuverTwT50_zGMcwiFy_appSCmM5xtXRAaACcoRPCnED_wgnDoK7CwdWQHakYErZOuK1vh9zzf1kRyscFaRS4vDSULPq--ar9MHz8z15yg1mfzg%2C%2C&do-waremd5=YuRXa1lufHcEw8UiZZe8BQ\n"
     ]
    },
    {
     "ename": "AttributeError",
     "evalue": "'NoneType' object has no attribute 'text'",
     "output_type": "error",
     "traceback": [
      "\u001b[1;31m---------------------------------------------------------------------------\u001b[0m",
      "\u001b[1;31mAttributeError\u001b[0m                            Traceback (most recent call last)",
      "Cell \u001b[1;32mIn[241], line 1\u001b[0m\n\u001b[1;32m----> 1\u001b[0m \u001b[43mmain\u001b[49m\u001b[43m(\u001b[49m\u001b[43m)\u001b[49m\n",
      "Cell \u001b[1;32mIn[240], line 3\u001b[0m, in \u001b[0;36mmain\u001b[1;34m()\u001b[0m\n\u001b[0;32m      1\u001b[0m \u001b[38;5;28;01mdef\u001b[39;00m \u001b[38;5;21mmain\u001b[39m():\n\u001b[0;32m      2\u001b[0m     urls \u001b[38;5;241m=\u001b[39m crawl_products(page_count)\n\u001b[1;32m----> 3\u001b[0m     data \u001b[38;5;241m=\u001b[39m \u001b[43mpars_products\u001b[49m\u001b[43m(\u001b[49m\u001b[43murls\u001b[49m\u001b[43m)\u001b[49m\n\u001b[0;32m      5\u001b[0m     \u001b[38;5;28;01mwith\u001b[39;00m \u001b[38;5;28mopen\u001b[39m(out_filename, \u001b[38;5;124m'\u001b[39m\u001b[38;5;124mw\u001b[39m\u001b[38;5;124m'\u001b[39m) \u001b[38;5;28;01mas\u001b[39;00m f:\n\u001b[0;32m      6\u001b[0m         json\u001b[38;5;241m.\u001b[39mdump(data, f, ensure_ascii\u001b[38;5;241m=\u001b[39m\u001b[38;5;28;01mFalse\u001b[39;00m, indent\u001b[38;5;241m=\u001b[39m\u001b[38;5;241m1\u001b[39m)\n",
      "Cell \u001b[1;32mIn[239], line 7\u001b[0m, in \u001b[0;36mpars_products\u001b[1;34m(urls)\u001b[0m\n\u001b[0;32m      4\u001b[0m \u001b[38;5;28mprint\u001b[39m(\u001b[38;5;124m'\u001b[39m\u001b[38;5;130;01m\\t\u001b[39;00m\u001b[38;5;124mproduct: \u001b[39m\u001b[38;5;132;01m{}\u001b[39;00m\u001b[38;5;124m'\u001b[39m\u001b[38;5;241m.\u001b[39mformat(url))\n\u001b[0;32m      6\u001b[0m soup \u001b[38;5;241m=\u001b[39m get_soup(url)\n\u001b[1;32m----> 7\u001b[0m name \u001b[38;5;241m=\u001b[39m \u001b[43msoup\u001b[49m\u001b[38;5;241;43m.\u001b[39;49m\u001b[43mselect_one\u001b[49m\u001b[43m(\u001b[49m\u001b[38;5;124;43m'\u001b[39;49m\u001b[38;5;124;43mbody > div._111XI.main > div:nth-child(6) > main > div:nth-child(10) > div > div > div._1_OV2._2NYys > div > div > div:nth-child(1) > div:nth-child(2) > h1\u001b[39;49m\u001b[38;5;124;43m'\u001b[39;49m\u001b[43m)\u001b[49m\u001b[38;5;241;43m.\u001b[39;49m\u001b[43mtext\u001b[49m\u001b[38;5;241m.\u001b[39mstrip()\n\u001b[0;32m      8\u001b[0m category \u001b[38;5;241m=\u001b[39m soup\u001b[38;5;241m.\u001b[39mselect_one(\u001b[38;5;124m'\u001b[39m\u001b[38;5;124mbody > div._111XI.main > div:nth-child(6) > main > div:nth-child(10) > div > div > div._1_OV2._2NYys > div > div > div:nth-child(1) > nav > ul > li:nth-child(2) > div.O3cQF.cia-cs > a > span\u001b[39m\u001b[38;5;124m'\u001b[39m)\u001b[38;5;241m.\u001b[39mtext[\u001b[38;5;241m0\u001b[39m:\u001b[38;5;241m-\u001b[39m\u001b[38;5;241m10\u001b[39m]\u001b[38;5;241m.\u001b[39mstrip()\n\u001b[0;32m      9\u001b[0m price \u001b[38;5;241m=\u001b[39m soup\u001b[38;5;241m.\u001b[39mselect_one(\u001b[38;5;124m'\u001b[39m\u001b[38;5;124m#cardAddButton > div:nth-child(2) > div > div > div > div > div._3BWiE > div._1il4y\u001b[39m\u001b[38;5;124m'\u001b[39m)\u001b[38;5;241m.\u001b[39mfind(\u001b[38;5;124m'\u001b[39m\u001b[38;5;124mh3\u001b[39m\u001b[38;5;124m'\u001b[39m, class_\u001b[38;5;241m=\u001b[39m\u001b[38;5;124m'\u001b[39m\u001b[38;5;124m_1He5n\u001b[39m\u001b[38;5;124m'\u001b[39m)\u001b[38;5;241m.\u001b[39mtext\u001b[38;5;241m.\u001b[39msplit()[\u001b[38;5;241m0\u001b[39m]\u001b[38;5;241m.\u001b[39mstrip()\n",
      "\u001b[1;31mAttributeError\u001b[0m: 'NoneType' object has no attribute 'text'"
     ]
    }
   ],
   "source": [
    "main()"
   ]
  },
  {
   "cell_type": "code",
   "execution_count": 57,
   "id": "ec7af8dc",
   "metadata": {},
   "outputs": [
    {
     "data": {
      "text/plain": [
       "'Synergetic кондиционер для белья Аромамагия, 5 л, 6 кг'"
      ]
     },
     "execution_count": 57,
     "metadata": {},
     "output_type": "execute_result"
    }
   ],
   "source": [
    "soup.select_one('body > div._111XI.main > div:nth-child(6) > main > div:nth-child(10) > div > div > div._1_OV2._2NYys > div > div > div:nth-child(1) > div:nth-child(2) > h1').text.strip()\n"
   ]
  },
  {
   "cell_type": "code",
   "execution_count": 213,
   "id": "1fc062a8",
   "metadata": {},
   "outputs": [],
   "source": [
    "soup = get_soup('https://market.yandex.ru/product--synergetic-konditsioner-dlia-belia-aromamagiia/1972055281?nid=82947&show-uid=16844378535760661677016001&context=search&sku=100285282834&cpc=fc5jen2Q-JFrlplNHAVuqnFlsjf3wP8wQl29UHHqFZ3ASdweo8sQLCFt_jdSdExEFZWsfh8gcRUMVwJRbBvVWn0Kq7bZDPcjT2SjPAzNvSAbn6bcvTboOZTGfqSxK7lLJ9P5nc4JJ3TMSOBR6LmjLJ8fqjhwN0dUgutmAT3m9ZDZxM6KdfGuhDGLZo5CP7HIyFQ3CMeaUi37qBSR11xAsxGxHEotmpa3I2f-_HDjrgXedgqZuNKKzGO0HrVIHDZMXmOlGvlG5wgTbvIsvN-rzA%2C%2C&do-waremd5=Q9r5gN8QFBeGF8V0_0ocvQ')"
   ]
  },
  {
   "cell_type": "code",
   "execution_count": 181,
   "id": "8b01c4ab",
   "metadata": {},
   "outputs": [
    {
     "ename": "AttributeError",
     "evalue": "'NoneType' object has no attribute 'text'",
     "output_type": "error",
     "traceback": [
      "\u001b[1;31m---------------------------------------------------------------------------\u001b[0m",
      "\u001b[1;31mAttributeError\u001b[0m                            Traceback (most recent call last)",
      "Cell \u001b[1;32mIn[181], line 1\u001b[0m\n\u001b[1;32m----> 1\u001b[0m \u001b[43msoup\u001b[49m\u001b[38;5;241;43m.\u001b[39;49m\u001b[43mselect_one\u001b[49m\u001b[43m(\u001b[49m\u001b[38;5;124;43m'\u001b[39;49m\u001b[38;5;124;43mbody > div._111XI.main > div:nth-child(6) > main > div:nth-child(10) > div > div > div._1_OV2._2NYys > div > div > div:nth-child(1) > nav > ul > li:nth-child(2) > div.O3cQF.cia-cs > a > span\u001b[39;49m\u001b[38;5;124;43m'\u001b[39;49m\u001b[43m)\u001b[49m\u001b[38;5;241;43m.\u001b[39;49m\u001b[43mtext\u001b[49m[\u001b[38;5;241m0\u001b[39m:\u001b[38;5;241m-\u001b[39m\u001b[38;5;241m10\u001b[39m]\u001b[38;5;241m.\u001b[39mstrip()\n",
      "\u001b[1;31mAttributeError\u001b[0m: 'NoneType' object has no attribute 'text'"
     ]
    }
   ],
   "source": [
    "soup.select_one('body > div._111XI.main > div:nth-child(6) > main > div:nth-child(10) > div > div > div._1_OV2._2NYys > div > div > div:nth-child(1) > nav > ul > li:nth-child(2) > div.O3cQF.cia-cs > a > span').text[0:-10].strip()"
   ]
  },
  {
   "cell_type": "code",
   "execution_count": 230,
   "id": "601cf9c3",
   "metadata": {},
   "outputs": [],
   "source": [
    "response = requests.get('https://market.yandex.ru/product--synergetic-konditsioner-dlia-belia-aromamagiia/1972055281?nid=82947&show-uid=16844378535760661677016001&context=search&sku=100285282834&cpc=fc5jen2Q-JFrlplNHAVuqnFlsjf3wP8wQl29UHHqFZ3ASdweo8sQLCFt_jdSdExEFZWsfh8gcRUMVwJRbBvVWn0Kq7bZDPcjT2SjPAzNvSAbn6bcvTboOZTGfqSxK7lLJ9P5nc4JJ3TMSOBR6LmjLJ8fqjhwN0dUgutmAT3m9ZDZxM6KdfGuhDGLZo5CP7HIyFQ3CMeaUi37qBSR11xAsxGxHEotmpa3I2f-_HDjrgXedgqZuNKKzGO0HrVIHDZMXmOlGvlG5wgTbvIsvN-rzA%2C%2C&do-waremd5=Q9r5gN8QFBeGF8V0_0ocvQ', headers={'UserAgent':UserAgent().edge})"
   ]
  },
  {
   "cell_type": "code",
   "execution_count": 234,
   "id": "77846afe",
   "metadata": {},
   "outputs": [],
   "source": [
    "html_code = response.text\n",
    "soup = BeautifulSoup(html_code, 'html.parser')"
   ]
  },
  {
   "cell_type": "code",
   "execution_count": 216,
   "id": "f8ac770f",
   "metadata": {},
   "outputs": [],
   "source": [
    "soup2 = get_soup('https://market.yandex.ru/product--opolaskivatel-dlia-posudomoechnoi-mashiny-finish-shine-protect/1729924749?nid=82947&show-uid=16844438001418822574716001&context=search&sku=100235939297&cpc=0LoTEqP4om35ieoSovUFVYwbwz8w1SVCCZwrGYmVTR5IY5OUdRPiSzaMcHHa7wuXSyocVd6GibjahFLK06Sg7lEhrJNNDb9tB52i49aai5BZzhutMVJyt8L5tHWyEQa__pz7SpNI8fYc6gWny3YNgvm0AykcjCaKYAskjm720Ep_N9tWLdCjxpmCM0jKvItmTA1DLfAUh4I%2C&do-waremd5=1yPpHrEsbthXTbPwxxhvIA')"
   ]
  },
  {
   "cell_type": "code",
   "execution_count": 217,
   "id": "65c83157",
   "metadata": {},
   "outputs": [],
   "source": [
    "soup3 = get_soup('https://market.yandex.ru/product--always-prokladki-ultra-normal-4-kapli/1729320008?nid=64650&show-uid=16844457307203925229416011&context=search&sku=100321107613&cpc=nQIc76Yo1Td8ZgZlwao74npx1gaArML3xskfV6QcLLWmHfNhcpUDX7faLGCuPJXJ-sS3vOzXj8zYKhewDt76oI2Op_cHm8G3Eh9ipem0fRflCp_AwXwYwZ4YuuAHKzNTIJpaXHZwan2lXTlFxP_MbRvwgyK7L4QAnP5GBwbq2k_8YMu0mHN1YrLQ4_Wp3ytJwn-cdtxjmm3K19Fopb0jR5cfaaXyfeA0leRTbBkGwqsSAjteR5XZr9YhikAL-pB2md7zbejgWyJSVFlrwtQOaw%2C%2C&do-waremd5=fy92_BzLq0azhRYUxW_a7g')"
   ]
  },
  {
   "cell_type": "code",
   "execution_count": null,
   "id": "4e481746",
   "metadata": {},
   "outputs": [],
   "source": [
    "soup.select_one('body > div._111XI.main > div:nth-child(6) > main > div:nth-child(10) > div > div > div._1_OV2._2NYys > div > div > div:nth-child(1) > div:nth-child(2) > h1').text.strip()"
   ]
  },
  {
   "cell_type": "code",
   "execution_count": 242,
   "id": "bd0cc17e",
   "metadata": {},
   "outputs": [],
   "source": [
    "soup4=get_soup('https://market.yandex.ru/product--chistaia-liniia-skrab-dlia-litsa-ochishchaiushchii-dlia-kombinirovannoi-kozhi-s-abrikosovymi-kostochkami-50-ml/70796487?glfilter=33663230%3A1~1_100345197841&glfilter=23674510%3A50~50_100345197841&glfilter=14805583%3A1~1_100345197841&cpa=1&cpc=6heX9rtscigD8uTL8vgjiztrjy6DEBH-SuhgHDqE4O5_8oXsBev5jNKfg4HnvAfSLKkVKc6em8vhaYxRpXzEgy7NhRCSLCYPISFO2qgedU9HDO9aVhVBp-eSHN9QxqPrP5gi6nctwiL62_3m643DB-ZAGQeVIzLbE9c0QFtBuverTwT50_zGMcwiFy_appSCmM5xtXRAaACcoRPCnED_wgnDoK7CwdWQHakYErZOuK1vh9zzf1kRyscFaRS4vDSULPq--ar9MHz8z15yg1mfzg%2C%2C&sku=100345197841&do-waremd5=YuRXa1lufHcEw8UiZZe8BQ&nid=64650')"
   ]
  },
  {
   "cell_type": "code",
   "execution_count": 244,
   "id": "ad531da3",
   "metadata": {},
   "outputs": [
    {
     "data": {
      "text/plain": [
       "<h1 class=\"_1BWd_ _2OAAC undefined\" data-baobab-name=\"title\" data-node-id=\"5zf41f\" data-tid=\"4c4e628\" data-tid-prop=\"4c4e628\">Чистая Линия скраб для лица очищающий для комбинированной кожи с абрикосовыми косточками 50 мл</h1>"
      ]
     },
     "execution_count": 244,
     "metadata": {},
     "output_type": "execute_result"
    }
   ],
   "source": [
    "soup4.select_one('body > div._111XI.main > div:nth-child(6) > main > div:nth-child(10) > div > div > div._1_OV2._2NYys > div > div > div:nth-child(1) > div:nth-child(2) > h1')"
   ]
  },
  {
   "cell_type": "code",
   "execution_count": 246,
   "id": "46d430d3",
   "metadata": {},
   "outputs": [
    {
     "data": {
      "text/plain": [
       "'Чистая Линия скраб для лица очищающий для комбинированной кожи с абрикосовыми косточками 50 мл'"
      ]
     },
     "execution_count": 246,
     "metadata": {},
     "output_type": "execute_result"
    }
   ],
   "source": [
    "soup4.select_one('body > div._111XI.main > div:nth-child(6) > main > div:nth-child(10) > div > div > div._1_OV2._2NYys > div > div > div:nth-child(1) > div:nth-child(2) > h1').text"
   ]
  },
  {
   "cell_type": "code",
   "execution_count": 227,
   "id": "92ee376b",
   "metadata": {},
   "outputs": [
    {
     "data": {
      "text/plain": [
       "'124'"
      ]
     },
     "execution_count": 227,
     "metadata": {},
     "output_type": "execute_result"
    }
   ],
   "source": [
    "soup3.select_one('#cardAddButton > div:nth-child(2) > div > div > div > div > div._3BWiE > div._1il4y').find('h3', class_='_1He5n').text.split()[0].strip()"
   ]
  },
  {
   "cell_type": "code",
   "execution_count": 228,
   "id": "ae9d73c8",
   "metadata": {},
   "outputs": [],
   "source": [
    "soup.select_one('body > div._111XI.main > div:nth-child(6) > main > div:nth-child(10) > div > div > div._1_OV2._2NYys > div > div > div:nth-child(1) > div:nth-child(2) > h1')"
   ]
  },
  {
   "cell_type": "code",
   "execution_count": null,
   "id": "3ae15348",
   "metadata": {},
   "outputs": [],
   "source": []
  },
  {
   "cell_type": "code",
   "execution_count": null,
   "id": "3a81f5b1",
   "metadata": {},
   "outputs": [],
   "source": []
  },
  {
   "cell_type": "code",
   "execution_count": 236,
   "id": "b3f4b8c1",
   "metadata": {},
   "outputs": [],
   "source": [
    "soup.select_one('body > div._111XI.main > div:nth-child(6) > main > div:nth-child(10) > div > div > div._1_OV2._2NYys > div')"
   ]
  },
  {
   "cell_type": "code",
   "execution_count": null,
   "id": "b06616ad",
   "metadata": {},
   "outputs": [],
   "source": []
  },
  {
   "cell_type": "code",
   "execution_count": null,
   "id": "431ddaed",
   "metadata": {},
   "outputs": [],
   "source": []
  },
  {
   "cell_type": "code",
   "execution_count": null,
   "id": "8e338774",
   "metadata": {},
   "outputs": [],
   "source": []
  }
 ],
 "metadata": {
  "kernelspec": {
   "display_name": "Python 3 (ipykernel)",
   "language": "python",
   "name": "python3"
  },
  "language_info": {
   "codemirror_mode": {
    "name": "ipython",
    "version": 3
   },
   "file_extension": ".py",
   "mimetype": "text/x-python",
   "name": "python",
   "nbconvert_exporter": "python",
   "pygments_lexer": "ipython3",
   "version": "3.11.1"
  }
 },
 "nbformat": 4,
 "nbformat_minor": 5
}
