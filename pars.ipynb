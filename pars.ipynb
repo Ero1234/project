{
 "cells": [
  {
   "cell_type": "code",
   "execution_count": 3,
   "id": "578c21b5",
   "metadata": {},
   "outputs": [],
   "source": [
    "from selenium import webdriver\n",
    "import requests\n",
    "\n",
    "import numpy\n",
    "import pandas\n",
    "import time\n",
    "from bs4 import BeautifulSoup"
   ]
  },
  {
   "cell_type": "code",
   "execution_count": null,
   "id": "eed81b08",
   "metadata": {},
   "outputs": [],
   "source": []
  },
  {
   "cell_type": "code",
   "execution_count": null,
   "id": "fca57026",
   "metadata": {},
   "outputs": [],
   "source": []
  },
  {
   "cell_type": "code",
   "execution_count": 1,
   "id": "e8dde0a1",
   "metadata": {},
   "outputs": [],
   "source": []
  },
  {
   "cell_type": "code",
   "execution_count": 27,
   "id": "21bcae95",
   "metadata": {},
   "outputs": [],
   "source": [
    "def get_soup(url):    \n",
    "    driver = webdriver.Edge()\n",
    "    driver.get(url)\n",
    "    html_code = driver.page_source\n",
    "    soup = BeautifulSoup(html_code, features = 'html.parser')\n",
    "    \n",
    "    return soup   "
   ]
  },
  {
   "cell_type": "code",
   "execution_count": 32,
   "id": "a8c706dc",
   "metadata": {},
   "outputs": [],
   "source": [
    "\n",
    "def crawl_products(page_count):\n",
    "    urls = []\n",
    "    fmt = 'https://market.yandex.ru/catalog--tovary-so-skidkoi/61522/list?clid=703&allowCollapsing=1&local-offers-first=0&page{}'\n",
    "    for page_n in range(1, 1+page_count):\n",
    "        print('страница - {}'.format(page_n))\n",
    "        page_url = fmt.format(page_n)\n",
    "        soup = get_soup(page_url)\n",
    "        if soup is None:\n",
    "            break\n",
    "\n",
    "        for tag in soup.find_all('article', {'class': '_3yjG2 _1ItK0 cia-vs cia-cs'}):\n",
    "            href = tag.find('a')['href']\n",
    "\n",
    "            url = 'https://market.yandex.ru{}'.format(href)\n",
    "            urls.append(url)\n",
    "    return urls"
   ]
  },
  {
   "cell_type": "code",
   "execution_count": 33,
   "id": "5c3657d4",
   "metadata": {},
   "outputs": [],
   "source": [
    "def pars_products(urls):\n",
    "    data=[]\n",
    "    return data"
   ]
  },
  {
   "cell_type": "code",
   "execution_count": 34,
   "id": "032c3561",
   "metadata": {},
   "outputs": [
    {
     "name": "stdout",
     "output_type": "stream",
     "text": [
      "страница - 1\n"
     ]
    },
    {
     "data": {
      "text/plain": [
       "['https://market.yandex.ru/product--rastvor-bausch-lomb-renu-multiplus-s-konteinerom/1731186445?nid=17346618&show-uid=16844360554357700541116001&context=search&sku=100304737125&cpc=2bQyg44RgSr8TPON_SnLZvxa_lmA0Nh4c6CtKQ4aDlkU-VTYvsd7Id2Yquh7BMA5qj_N_nE6WQEra15v5rvVgIAnrBL8m3mU0Bn1ThyAZWxM7-tAK7SAAK1-RWFvgziv6PwzaSPQWHrDjJof5sf0VN8k3yFAJ0voUQV6-hr_zgigrY78DXkqBdrOf2oM8iIWKSFa3N0ZvHp-8oBqnX3AmG9UR0xL29E-HiTO9zq_hgUcWk0J1HESdGrk7hWp0qJfgX2079GjzatMviavNyBWBg%2C%2C&do-waremd5=dGH_aKayeWAAMzWOjGOPrw',\n",
       " 'https://market.yandex.ru/product--ochistitel-vozdukha-philips-ac2887/1724111813?nid=61589&show-uid=16844360554357700541116002&context=search&sku=100309814951&cpc=2bQyg44RgSrGRlLNw0AqqwYwr9AHiqYlNckNI5O6XkMvZh_wYAawPFTa_gLEzDqenzdWVZLbwp9RrusbfP3M7h0r9CODIHINipmgrCoVqgjgNoftUCp_UsNeFFV8DehIpx78EWEf_F7vNYd0cTEzcpWyC-o64Fl_htyIw9Hr4cs6_DBHMPEds3k1k-mEKEcZIRMCm7q1CU_hezwrmzrprupU4o-3qjQM6IwjLENi9avRYYd-SkQ8wbzK_QeL7xp3oiepwl28JCVaPZJxbN5ZXQ%2C%2C&do-waremd5=DYNhNP48dtOTpxctxvRHng&sponsored=1',\n",
       " 'https://market.yandex.ru/product--kontaktnye-linzy-bausch-lomb-biotrue-oneday-90-sht/1718296491?nid=17346618&show-uid=16844360554357700541116003&context=search&sku=100304737235&cpc=2bQyg44RgSo0OASo8Fvky4h-FSFTaXU6orjTq14khvKjkBHMvmk2M5zCH5N3iZm7wEKxn3sg4_6pT6wfO772VHtHNXVLTNEYewU3QM44gfaNzM4cKCXkeZu9YkGoWNun3l8S_h7hIzBxicbXw9xBUvaoAsZQTfGr582pvWTMiebjW5yRZIaKBiD0B_FI9nglkTOQ07jU3qFUCPJId3vi2I48N5c3LtAFkbWPKqsTBYUqPnH1EnZ2VLiAq2znHHysyJxhhhyMJv1TqqcOwX6jtw%2C%2C&do-waremd5=FvyY7LoRvZV755tyT5Keng&sponsored=1',\n",
       " 'https://market.yandex.ru/product--synergetic-konditsioner-dlia-belia-aromamagiia/1972055281?nid=82947&show-uid=16844360554357700541116004&context=search&sku=100285282834&cpc=2bQyg44RgSph_aIlovcKNpu7NRX1UtS02mRMhd6zICBUaNM22Egns5BiMmCiS1WXeas5t3WhlBpnKQV0wBHXRV2AMDY4eLzwxqFEpUu-njrLNCs32CuVbZ9ajCZzRRW7db-x8v4IRZGUlmB3M3zsLdN94Ur3_Ena3p9xlks1XdLIiAV9lh3Vv4Cmgp_CrVnaWhikm0fS6dpEAl2ElR0nnVOYcdLVe2LkKScJ4qLRhlPy_Nl0n1DXvXCFTAISaVcCZJOof6UUB5smoWPkIysj4A%2C%2C&do-waremd5=Q9r5gN8QFBeGF8V0_0ocvQ',\n",
       " 'https://market.yandex.ru/product--koliaska-liulka-pilsan-candy-07-603/1728840277?nid=17346973&show-uid=16844360554357700541116005&context=search&sku=100348978841&cpc=2bQyg44RgSqF60SdKVoZ_vET3ma8yeYxBn3unO15WdMr1-aQI31uzm6lJzYdxBCU5CPqcLDgQxxSd9csNrUKjAGeWzZLvJKbcT4mW468_TcI3mw7eLG-H4tyMc7YVR5FoXDkod8d7cf5VLUIPjpTBCeg7h36Djq75QJdoZPfYog7ZMsDjbeK4BxhYCfiZ-V5x-TDggqciTbiM5Z6sFTTS6TPvMpLWPcrAppNVds1oLffMDVu8k-O8lG-z05DlKwFs6_37xDbG20NipEZY2GZBQ%2C%2C&do-waremd5=ldb9c-T03Yhni2uwh2_rxw',\n",
       " 'https://market.yandex.ru/product--kompressornyi-ingaliator-nebulaizer-b-well-pro-115/1788036827?nid=17346564&show-uid=16844360554357700541116006&context=search&sku=100276236752&cpc=2bQyg44RgSquxJ5oFTOE0nwMnAsQhrUKGfoUbk9-pqfCCfcdh6oiNGswyDmkHR6oTZTWiHoZ4vMMfp3bkkD3ShuNOQWB5b5SemF_aSBmPJFWvoiOdvJGUlNszxfFgH61woMcnMnhoeL4V2mhH4v7oklJOKST8HN5QeFgZQdXvMwMhip6Z2DfZ78lnI8JPVfqxoZzSgmbfPtMQqQ1zhONBGWT55Y8vrDsRaWkfY-tM5GC4BV1bHonJ1AL2DLh3BPt_DsRL-TLUxyPPtaIFlt6bQ%2C%2C&do-waremd5=0-q1bPJJr14lQ44BZv56dg&sponsored=1',\n",
       " 'https://market.yandex.ru/product--naturella-prokladki-ultra-maxi-6-kapel/1729219694?nid=64650&show-uid=16844360554357700541116007&context=search&sku=100321107664&cpc=2bQyg44RgSo8Qk0OD9b8njS9wcUAHezq-izA8KKXmHNHVDz0O50cqUDvPpNmqzacu3P70hhJuPzmL3A14MUoL-KgEeiPkZwoyiPx0xx26UEjws4tFkHT64RKyWt5BeSJ2sDWA53K4bWBuwrNgcBC43KtvP3IYuo1IjAenIQLlbEUeUu81zZCvQpAN0oK4kZ_nqrpWi5UYvuWlfeFw_ARjqo5JxaG0ZTrjsunvwbVakanZJjsnQrmeI6Dt7gh5ulrjyS_Ma709BfK3VQokMDyDw%2C%2C&do-waremd5=sCHxq_nakd8eMGrd4eQdOw&sponsored=1',\n",
       " 'https://market.yandex.ru/product--grass-sprei-dlia-vannoi-komnaty-gloss/1731285517?nid=82947&show-uid=16844360554357700541116008&context=search&sku=100299175845&cpc=2bQyg44RgSrEwX-6-o__xvdhoP-VbC0neD2MFfZVsmrERTGHXqtC4jwY_BrqUnC5aO9L70RbHsCviyD_DuZH9hWFHT1KJu9VZGyVFp1Jgtiw306ZgTyqZwEtiBCrxcFCC7V25ivbFI0OEAf5etfsMeQro9e9yLfCvMM-ZIOMpYHFpzd5_sw6s3LhQjlBokSrVtZOwRtbkWoIfkZ1uH9UD4g_TXbuLru57RKsivNikBHamDaH2RtzECvrE_rzL4iTgwQNfHDijyIrjuFGp0IDkQ%2C%2C&do-waremd5=6BDrYY5A-wSmfsfX0ixg-Q',\n",
       " 'https://market.yandex.ru/product--sprei-clin-limon-dlia-mytia-stekol-i-zerkal/1825853971?nid=82947&show-uid=16844360554357700541116009&context=search&sku=100298096003&cpc=2bQyg44RgSrRoTwXJ_5k0935snIxGwivaQlXRTumqnB4aht0gYDNUtMpHTL-IA1rVNPmPC2fkzcDH14uEs9BlqXYY7FNay3p_d7JxXBdVMIDgzYHZvMbb3RzwQXmbjDT_pFgBfzUyZ1De9lWVoqLIRfEA3BuNvJeBHStyYZcFRGXoo-rTEA6-4J1nrLLzvoJChy_w71m168QmlN0ZQGKfp2A1U0Rzf1Jciv7KjjsshY4qx939WyjzfWQ4HqoyU7hmHqPXK2YYL_PXJuuiILhbg%2C%2C&do-waremd5=qMHrzgdUGHNjzkvDRsokkw',\n",
       " 'https://market.yandex.ru/product--zubnaia-shchetka-biomed-black-medium/73784048?nid=64650&show-uid=16844360554357700541116010&context=search&sku=100360515083&cpc=2bQyg44RgSov1p1TyIyiSzSVbqPVbWqiDgGt3sqXicBsA6uX2i6zPOu6Fl91fai-jTVB0wZLBDm7QMw6pS0-FedgSm0EtbxBdsiqMEc-APA7jLAiVH_tQrPwk1M5yLtzqGlRYig_n3q39YMwXLXnkotjOaKeS3lEFvsmVK4emzR9taGq6C8rEMDOgh-5-C6Ivnk0uuqopioSFQ60S5YehosdnUZ9NsYkMesIrvvVJSRQeHZ-melgw3FsbnK6eE0gjEuPqU9q3UkFtY8ME-bmrg%2C%2C&do-waremd5=-s1NsIHvdUIktAO-hCXxNw',\n",
       " 'https://market.yandex.ru/product--kontaktnye-linzy-acuvue-oasys-1-day-with-hydraluxe-30-sht/1717054919?nid=17346618&show-uid=16844360554357700541116011&context=search&sku=100299405723&cpc=2bQyg44RgSqbvyKwUaMc4f7ZAWtToI9D68JJVAJfkLRye91NRo5B_T8Wkx2FAzTiRk70c09AaJTQO4leUD-9YzWdbMU6hix5K1Ib0Z-ue7vSJSGhSiX6V1t_HA9bO0RtrTq73_sCUkTv4I31_FV5VhRwTEyEFl_i2IVOMpg_m2lWZCfGwqpDxcMu-ulbKgUBHnd5mXJAEYwh2yPRjtjfJ5TGF9r6Nm-dGJ6R5xAreT8KmRbi0fuY7HUCfGViHmYIKr31KwdkvSew_tztW-YLeg%2C%2C&do-waremd5=Y0i8ACBt5aGDQ8OaMPRB4Q&sponsored=1',\n",
       " 'https://market.yandex.ru/product--kontaktnye-linzy-acuvue-1-day-trueye-30-sht/1717790277?nid=17346618&show-uid=16844360554357700541116012&context=search&sku=100304565772&cpc=2bQyg44RgSow-60-MSkHawLQWwW-xKo2xq0CLRekSCC4Id9IcCJ1Jkvr_ckmFvcCD4TADixyHvwUi6nVQrdeu5n3zdlrNpkxMfiNMWux3i1IV-x2n1EAYN-qg_XWmMW3Xx0K0FhbEhQTVBHadsfYgjt5d-Oz9iEA-RSEUkIGzEW5VsPyWZtailO0AFxxvzMOktDxhJSJBcesdumAf1PhgDHP2L0ZqTBtmNh-ZpqJKS3Mjbn4Lyzlsq3jdA54f4lDeDu1iZoflUXE0aB_9dlWYA%2C%2C&do-waremd5=AjPUZW5VdDBD80gIk8osAQ&sponsored=1']"
      ]
     },
     "execution_count": 34,
     "metadata": {},
     "output_type": "execute_result"
    }
   ],
   "source": [
    "crawl_products(1)"
   ]
  },
  {
   "cell_type": "code",
   "execution_count": 35,
   "id": "89811eec",
   "metadata": {},
   "outputs": [
    {
     "name": "stdout",
     "output_type": "stream",
     "text": [
      "страница - 1\n",
      "страница - 2\n"
     ]
    },
    {
     "data": {
      "text/plain": [
       "['https://market.yandex.ru/product--opolaskivatel-dlia-posudomoechnoi-mashiny-finish-shine-protect/1729924749?nid=82947&show-uid=16844360892066441002416001&context=search&sku=100235939297&cpc=iYYeVun_Y_umE0KQ-foIrj_AG-YyZj3VP8mMaYqDawhIx1Lg1jDedIf-oPAFkcpSSgbGa3K7SxuHQ1EuhNfHtwDQYPNuW_8qFkjmEKVBAWY8WnjwRwTENAD_Y7nObdRZywq8obOXni8dqlL645X3u52u5-6A_Gu_wph4AbKY5kaPBS8jHuAQLexvkgU3mznu2_PweAUUZtE%2C&do-waremd5=1yPpHrEsbthXTbPwxxhvIA',\n",
       " 'https://market.yandex.ru/product--always-prokladki-ultra-sensitive-normal-plus-4-kapli/1729319967?nid=64650&show-uid=16844360892066441002416002&context=search&sku=100321107667&cpc=iYYeVun_Y_v491co9929p4NVAqoenNLq9UqRXPD8VSoMkVjpTB-miQ-mKn1u5UB2w1tXUwV6jkigSQbQ4pHKi06GTB_zDrtHIu_8K7Gzog_-0urThrd8WGY4CfyAyFJ5fZb75MFGjzO5TqGmNxk24LFUEAz-o7in2L_bXzpAL6G8r4DBSYrmrpdfz_FElF5tFW9u7bLAfnqmz4aWmp0CvUH23aE7G6Ve2BZchrhahocIN4wMZSYejysuZlNvWhNhJke-oXjaWRbDW7xKlaBEOg%2C%2C&do-waremd5=c_ChlSUpny2RjapdsPE-2g',\n",
       " 'https://market.yandex.ru/product--synergetic-konditsioner-dlia-belia-aromamagiia/1972055281?nid=82947&show-uid=16844360892066441002416003&context=search&sku=100285282834&cpc=iYYeVun_Y_tSF4yECUCjSv8be-MrcqcdhKsAd4m-cbgNLeMCWNwFwkkpxUPwh-onwVOUXMa433GPwuhYKl0q5b4qDC0Pu-uwv4oQY5vrDcopAuedPhGLQAXIUcyXHNf7Imt2hBep9NhUhxIMDGI_AD4uN0Gm4xQ0WQck93bA4y-TcLGu6BEYloT9xvfO9LlYP1PVlcpeUZh5_MiWEdcoSdKNzDa9OGnmjyaOqDy-UHA01U_jAYDE0fR6SgdcMH6VAGeuO7sMxzsEe1XNEpMe4w%2C%2C&do-waremd5=Q9r5gN8QFBeGF8V0_0ocvQ',\n",
       " 'https://market.yandex.ru/product--rastvor-bausch-lomb-renu-multiplus-s-konteinerom/1731186445?nid=17346618&show-uid=16844360892066441002416004&context=search&sku=100304737125&cpc=iYYeVun_Y_t5gqltI5qY56gXdvyWOufSN20bifvp0ilhpp56SBT4IgjcGtKCdBUdOz2WoylT2PjdZLnGhvnvlKbeI7EbEJsc1BHAvigEALoadhx4tlPjVVtC9lgh39W7gPIt8Zq3pvNelLkMCLC251uuiONerlL_WiPl9gbDk_kJqYWCQtJXjC2_5pBdrBmcMbyl7BcFuriAMaBkBMatI_nfl96cscI5_WrF4ieTXNsg3WGzLEGsYp7rJ9_mXE6L2X-yvvlxy-J0qnY0gMmfqg%2C%2C&do-waremd5=dGH_aKayeWAAMzWOjGOPrw',\n",
       " 'https://market.yandex.ru/product--always-prokladki-ultra-normal-4-kapli/1729320008?nid=64650&show-uid=16844360892066441002416005&context=search&sku=100321107613&cpc=iYYeVun_Y_v3cg_OUyhbFCzPbPl5_oohrx9QriSd9fTi4_xHkVxXs_CSkd2jqJWPOdozJUJlbxQYQxUIyazaGU3tFqpsIVymzhQcBFpRSpR60WVk9zVN1UoLkgJEUzM-p-q05kTTWcS0BrRTqNwSKc1joIxpUXXigPW_NBQwOeASIXge4ACJYHSo6eAoJXkC0WcbCo7ByLccnkdlQk8j94Pq_SFvTt9_9W68yu9-Iep2N-iAm-JWpb6avO9G62jn8-m1u3YKlDjyZsa3EzBwfw%2C%2C&do-waremd5=fy92_BzLq0azhRYUxW_a7g',\n",
       " 'https://market.yandex.ru/product--synergetic-kontsentrirovannyi-konditsioner-dlia-detskogo-belia-nezhnoe-prikosnovenie/138726417?nid=82947&show-uid=16844360892066441002416006&context=search&sku=100390567565&cpc=iYYeVun_Y_vW8QxSpP6z2aahi1KrJduhDu3NHZBxGLM6H-isVN9lheMPyoNbu5tW7xuUkbJTLvwLnfKGqv4RHtDqbSjERw3BnI8cs1go4fnD1iONJpeyV2TpCNuCzQD8qZRcH0vhaBz7Z7PnlvQnkgrx9i80urXAN27Z9N61uORRQoU37MK2e-0YAZd2AiCfWFPKJZWHRWp5Ow-WVh1TAZwzqXzySeaPCf1sOFS0jBIB6FUMIGGGDdwxO0F1igpx4UmeB6PGosalnWdivXSIBQ%2C%2C&do-waremd5=tJG3SNbZUXKjOJM4_s40wQ',\n",
       " 'https://market.yandex.ru/product--chistaia-liniia-chistaia-liniia-ochishchaiushchii-skrab-dlia-litsa-dlia-kombinirovannoi-kozhi-s-abrikosovymi-kostochkami/70796487?nid=64650&show-uid=16844360892066441002416007&context=search&sku=100345197841&cpc=iYYeVun_Y_s6TZcwnbcisJA9xeGeKJAB6uJPUXDI7ONz8TOABeD-YVGjBoQaCHuniTrr78dkmia_dJFd722yAzO8c9GSFhx27In6YiAqdFa_0u01rU4YFJN9YyP6sR9sDFolpS_51pi1aTYQdsNWpG-slyuLxAsGLIFsrL8Rlb441mPgcw_MtBu7GGe605tTdJ_xJk2OSvDdXC9MbDLc3eobMjw6XAFJqXyI6zvB9inlNvi6Zr4sKqqdqfC5cm5bT6BfuTY5lyMhbga_K-5SIA%2C%2C&do-waremd5=YuRXa1lufHcEw8UiZZe8BQ',\n",
       " 'https://market.yandex.ru/product--organic-kitchen-maska-lifting-dlia-litsa-ukol-krasoty/1825688398?nid=64650&show-uid=16844360892066441002416008&context=search&sku=100326875846&cpc=iYYeVun_Y_uMqUbjh-ibGDaCjNH64nlgn9IPITxqgxpnaqJiH3d3SZpFItuEM57igxxEAhyt99GIE0DMNXdyW1W2BMH3FmZx8PHaik3wj015V0ROtBseqSb55SaWvhpXhZWbs2hbQc8NB3yjM-Uq81ZyDnE1tqwCTyskDW9XoYb_oNhTEs-8HvnUBwCOry-nXyYlQGMDAbHZ7V4crVxaZBqDav735Rfjm7AUELM2lj7-9bePg6rXk6oX4Em6187nzyvpddbJlO_-T0PoLoRzPg%2C%2C&do-waremd5=jbmkUhAOG5cOb2NJw-pcyg',\n",
       " 'https://market.yandex.ru/product--e-konditsioner-dlia-belia-fresh/1971887149?nid=82947&show-uid=16844360892066441002416009&context=search&sku=100391755103&cpc=iYYeVun_Y_tApR2hoNQ6j05fWTOuzZ_cBEF-9KAoKj_tK6UCtzJeiLXRxHbBuK3QC3AipljWYYCuLbxkoOPcXZ3f2d9hERsTodmTOj-8HUw7niJA-7LgtqWEtfuQfXIG2quAx_TO_-6TxTny1rjSyiXbq-FEBSAHsg7yg6ARcE-ctXjTWRgmUX1dS7pBJ3uip60wWqOUesqqvzQCoxgDXUllYwCtHJ2gTOqYpiGVvPVhy7zS1Ue3IcgM2BOMukn66anqruQmD_yX7zx6fS69Sw%2C%2C&do-waremd5=IW90aj6VixefsJV7XOc_SA',\n",
       " 'https://market.yandex.ru/product--synergetic-sredstvo-dlia-udaleniia-izvestkovogo-naleta-i-rzhavchiny/1731398709?nid=82947&show-uid=16844360892066441002416010&context=search&sku=100289196728&cpc=iYYeVun_Y_tPozUUUWFnQRSHHbAnwUrt8loOQc9L-wY2e0UtQNktJez4-0qOr3suy7i4P2QNAi5HOgT2Eq3iJSyJuqbSQY5rOWBft9MTyQ3JM-RHAbNbOw5ska_6sc3z0ANaW8tuo6J6nabLUVANCeeGs1ByUWL3aLCnfVjGhXq0MiRdX6DztWZmePozgfPh8utKjz2fslXR2oLKbEDhBEDmMCI78fxliEz34PaCI6VJC8QDSL72hmoYg3C0US94xN5dA92uz8P4MZ0nCFF6OQ%2C%2C&do-waremd5=8gom-itTWzOvV4M5N19uzQ',\n",
       " 'https://market.yandex.ru/product--gel-dlia-kukhni-azelit-anti-zhir-grass/1853923162?nid=82947&show-uid=16844360892066441002416011&context=search&sku=100364737913&cpc=iYYeVun_Y_v04MY6SvJhaijojjlwlR1fifnwo3jvWKCRYQDs1ngHvdpjBqt3v3gLpWcMU3jH_V7DXudWZ_860BknKM8oEfp4K_CnZEoXMqV8_6O6ETyHaBwCGmkriIuHbyUvN9YZwvo9GLaoZtOXdlYRu-O0ETPb96WhP5yuWQJmscz2qcwqe5SkB-VnBaXuFp_XVG7OrPXyRcO12Su9pjYvp6_7x4KsUz_2YBrNyCl34oWslw_IhlHOYUAOg4UoDI107w7MbusoFQUktB9TjA%2C%2C&do-waremd5=LwbdlHpT11JFQo9TSWgg9g',\n",
       " 'https://market.yandex.ru/product--synergetic-antibakterialnyi-gel-dlia-mytia-posudy-aloe-vera/1729318722?nid=82947&show-uid=16844360892066441002416012&context=search&sku=100387275804&cpc=iYYeVun_Y_vsYYfqPpELxPmyiKmhZKWxjklgvrHd12_yn2Mxu3zY4RDVcAR2-QRzGsqCOQXpgwKPWH-CLO1BgXVQ10IEMC32xY9u4laomy9RS401lIkje3RMmQWdxNEoclZLsatXPL7OWnPvCQL8NP8bX_II7u33eFiViIaBjR9ryxzfqfq197GHFlMqmtZ3Guubh6mbIA7Q1hGuw3__pVaze_PJGeVhqs-MeTskmBb-LT_vinFbqrXvsJxaMXFROcolrvUifbkmeyEL7EeFbA%2C%2C&do-waremd5=HLys2LcoJHegh3_R1PtatA&sponsored=1',\n",
       " 'https://market.yandex.ru/product--opolaskivatel-dlia-posudomoechnoi-mashiny-finish-shine-protect/1729924749?nid=82947&show-uid=16844360995298886463116001&context=search&sku=100235939297&cpc=oCkpBF3a7BqYt072g6nlNLzCd68L1yBv7QBgTEfPNgppILp8cBOU33YWDwzcjFbmiZC8VdLH-cH-vMSxwvJgYRrdQcA58kCvnUiUdU7VVnehvws_sXPQ3FGWTGsvQITcIit8tmBdK0Aar_wnJvTuZ9v5Q97VAuD8dVierwg5dcEWmFXwBXXoRIv_UE3gU9pe8ztk1hQxMlM%2C&do-waremd5=1yPpHrEsbthXTbPwxxhvIA',\n",
       " 'https://market.yandex.ru/product--kontaktnye-linzy-acuvue-oasys-with-hydraclear-plus-6-sht/1717790292?nid=17346618&show-uid=16844360995298886463116002&context=search&sku=100304633957&cpc=oCkpBF3a7Bp4eACIR0V6D9kCFEV7K0M7fvNPJvNFnNh35WC4aK_E9X9OeqVbeZJGhaMVqxrj79cmCMd3aJMmv3VSzdrwaQFQGInc0LoZe03Lm2BAEbM0N79vfOWBu0JJ6ERuKp8Gs77W4kw1LPAYCVenuG1BLqMcS0rzyP36bcte1E3B_FriIHEOLbUq5NhcPE-wEZoNvA50KRG2fkLRzTYhtJQC3j_wXTmwtjjGLXPn68-jgU10W82W6nNOf9wGS2HGIrdyhiM3njdv_IDOxA%2C%2C&do-waremd5=YPA2HQjkSSG3fDd2zbyg0w&sponsored=1',\n",
       " 'https://market.yandex.ru/product--always-prokladki-ultra-sensitive-normal-plus-4-kapli/1729319967?nid=64650&show-uid=16844360995298886463116003&context=search&sku=100321107667&cpc=oCkpBF3a7BpuUsEAihEsad_wva4yGl0veaLFqylsdgdJp80UIvdWfsIVH6ekRGpYXIJQgn3ehBm1prU-XLenM5MG2uq8L_C38FtR7AMqyuzusxuWPBpQNU69zYv7eTZzRST-gJh5Ocpglkx-GbgCbm6IK8PccrLTkOsPd-vo2ploGVsEpzyuLvZLQWWxZ4NTdjnUr1Ex1XC5cEsLyAQNSZODvLN83oF7Hwiw3F-RkYDiAmEKPSFfD2hxgG8gEolrHREzkIzxWbEI0b2u0tinRg%2C%2C&do-waremd5=c_ChlSUpny2RjapdsPE-2g',\n",
       " 'https://market.yandex.ru/product--naturella-prokladki-ultra-maxi-6-kapel/1729219694?nid=64650&show-uid=16844360995298886463116004&context=search&sku=100321107664&cpc=oCkpBF3a7Bpeu7HBIh_4tNYvgEzKDjvKAgneTYDvjlf2Rb2z2qdkTudSCUfUZjnf1x8gVXtLUMe46OSeGb7v4SmzUFUYsUvJMbiGR2rPGqycLevgy3T-4CMuZxpcwlsTgIOL4lbh3CYBNvx08xt9RU6ehqWHwH82rzHqIVEC-T8QBzvH5OmGh8NZO3ZMQTh3Vum4UkK1IKh9fHp7rNbkuwjUHW1oCX-wSdSaka9wXeduIUHrurPg_uKy0utgecnCKzp2o8NQM5_hIe75Z-rOVA%2C%2C&do-waremd5=sCHxq_nakd8eMGrd4eQdOw&sponsored=1',\n",
       " 'https://market.yandex.ru/product--gel-dlia-stirki-synergetic-universalnyi/1730135105?nid=82947&show-uid=16844360995298886463116005&context=search&sku=100289196773&cpc=oCkpBF3a7Bpr4rdR8pTV39Oat_HcbXT25uyNthxw7PM_f0qaGIBdEn7lggLSdiY10s5y9nolEUYvKJxIyd2CziA_QenXcf8N2ZtSFdiJIsNd2PxoQ9x00pEZzJ_WILvBF47wEXV4fzifQWuGCx7mfyPQDvPYwIiM5h8qzhMaqxryclQUIgc2wu4pHzTE19hJn9hXaVNhtuMtTFixUEOj2pZD1SKJBM9XEh6pblKor09tm8OXF_p6hyYEmBHpDY2nNkQ0vz4u7qxv55D__XuSrg%2C%2C&do-waremd5=1KYyz1VAETkPeosA4q19rw&sponsored=1',\n",
       " 'https://market.yandex.ru/product--synergetic-konditsioner-dlia-belia-aromamagiia/1972055281?nid=82947&show-uid=16844360995298886463116006&context=search&sku=100285282834&cpc=oCkpBF3a7BpD-ENWGDLTxlsUuBWdHZ-ix5zpW-w6cyLtobDAGz9OOoV5f9yKfWSHWZ110HqVXRZlDBzS3jSg3_b4tRun_DJMllRJo_BJdJp3GLaBOh0lWQZ-P45xFRcl10BPqM2zklpadTjPYDDa_wettYoW_cPQOkxcxLGJoWfK57KcQOenUUrPYZ_v_FlZtHx16uBcc8XkdfXwEsM93ssqhIF4bucatJYjQq2CbN8EJbBXEBSDUZoClLIcw9x4fRPSG1TCTrXnEqpm7JV6PA%2C%2C&do-waremd5=Q9r5gN8QFBeGF8V0_0ocvQ',\n",
       " 'https://market.yandex.ru/product--rastvor-bausch-lomb-renu-multiplus-s-konteinerom/1731186445?nid=17346618&show-uid=16844360995298886463116007&context=search&sku=100304737125&cpc=oCkpBF3a7BqIVDWX0U0zek69U2a4sxmeYzhEVpNpNQEhacrYfpzHNoanMHMCLJ_G6DuG-7Ur_ljl01bPt8_FRiqKMf-h0WofN4gPsWQR2VaZ9XaCoJcWQxQHffHhM66FqxocBJdVm7HBqP8Sd7ubHOU6HYhtwsUxkslQDaC75ZpxStP0W-eVfExxF0QfL5YuiZM2SNPt7ypa-vmOAeEriKy7PidureQXpyHGygoC4H7sQak6eAaXE3YlzPn70UDN-p1rKDnMbOc4nBMivC0o7w%2C%2C&do-waremd5=dGH_aKayeWAAMzWOjGOPrw',\n",
       " 'https://market.yandex.ru/product--always-prokladki-ultra-normal-4-kapli/1729320008?nid=64650&show-uid=16844360995298886463116008&context=search&sku=100321107613&cpc=oCkpBF3a7BpeGSaJBJ-j4xzBjmyvBsC9ZU8WDkYBwzwCFOasiumac-FzHkXWM3msM1RJxPPoKrHJ4xNHluflaEMeNwYeVdJtktpknmdBLhVi9hGA0s8lOh0W1BwsDk9uwftNCtVE_W-rkxES0kJN4cbR0OqRsWhBt1OGe0DXh9dGQryFL1zCKwqnPOfGvjeadipoKS4SbikzL2bo1a07uI_My_ljux0w4V2XDZgj26uWEQFYPufkb1y5WEHGhiVoAEqRa8v8DCUybUg0isyt6w%2C%2C&do-waremd5=fy92_BzLq0azhRYUxW_a7g',\n",
       " 'https://market.yandex.ru/product--synergetic-kontsentrirovannyi-konditsioner-dlia-detskogo-belia-nezhnoe-prikosnovenie/138726417?nid=82947&show-uid=16844360995298886463116009&context=search&sku=100390567565&cpc=oCkpBF3a7BqLkB80QTttxqYf8v_q7LmzxrHVWbSoOxq2FxVlI3a0HMmv3wnoCHVxTjt4mfJEvt_DbeIFxj9YLA3UK70UDqYcoFCwSnbEw9QGHa1ObH_oIFJ3UDYF1COTRTdFb68SVStgk7pgIkA78avgCjowIvCHGLzILgprf-2ljutLqlXr_crjyjC4QEqRwvEavUsW9Lc54nqrTnYsg2Bhzcf0IjO0AVG1MV8m1jKJkI_rAneXifY3vaKOA2Kthbnh0_bS9_StRxP-fJ6UWA%2C%2C&do-waremd5=tJG3SNbZUXKjOJM4_s40wQ',\n",
       " 'https://market.yandex.ru/product--kontaktnye-linzy-acuvue-1-day-moist-90-sht/1717790275?nid=17346618&show-uid=16844360995298886463116010&context=search&sku=100299396505&cpc=oCkpBF3a7BoyPTgFosvHuA828I3xHHZkzoHcS79WweUPLhVBcUq59mrjChXqvJJWWK_e-RU0pn_5P_q45AHrEg-ccjN6_vRku3Yij4VGAF7B6sFHqkFZ1PTUhKuwoYYA8fUh-rXSle4bEVx0-Pt3p2Uxrdt3ZmaArxz-wSQbd7g9bOZxMEBOVCeLXTWyqEv8s1X74FtwnGEo0pl1AgfjGT-awhwC0hZAS_NhIiW8wononrpma7Ye3SeVh-ABP6cSkaPRpvhdqW48EpGN8Ndzhg%2C%2C&do-waremd5=hKiK7ydJf82jjJmSrKf9pQ&sponsored=1',\n",
       " 'https://market.yandex.ru/product--always-prokladki-platinum-ultra-normal-plus-4-kapli/1729319987?nid=64650&show-uid=16844360995298886463116011&context=search&sku=100321103787&cpc=oCkpBF3a7BrJcdJTHxtr5sj1_qr1hMx6mANto5QRGrFMDolJWSPh5k838kSudvU3M4uT-iWZxFJdduLhOoo8FzhJp2Mb0hKOc6LFsB_-F-FYBzPlrGQ_m2RVKXRu9fbipVu97RLIQhQvl7xR4odstUayoW39HdhnuWNyl9y2DqS436VhIaAGPuQ_58B9iaCLoQH2W7PIHi1GqOUfP_u_fbVbYATOA6fEE6E8lJ4pscJldy1PmPiznFUvtKz7Kl2W6tRnqbGSPkMPvxHU5FApRw%2C%2C&do-waremd5=vubp5o-t449AzHT6nqomLg&sponsored=1',\n",
       " 'https://market.yandex.ru/product--chistaia-liniia-chistaia-liniia-ochishchaiushchii-skrab-dlia-litsa-dlia-kombinirovannoi-kozhi-s-abrikosovymi-kostochkami/70796487?nid=64650&show-uid=16844360995298886463116012&context=search&sku=100345197841&cpc=oCkpBF3a7BrxPDGXrUQgZ9tIPE5UJA2-TFFMmldT316WOTW2KurO0c1m3Rd2grPhXBFps92BunToh-lCODjhqOslu2rmOwlid1KJCioJK9Ec-FTkMNcAPsL16Rbxua8mqyilsQaA8Dcd1oCvOMbSSzz209rBAHhiXZ5bIf2es-TFb1YJFmcso1foSkbK04hjBJFzLfBc1CdTd77dw_JXl60ABYJvEPDyQIRrpmxCX1-rDO_WSV-7fPPBBl54n0DPtqeJYE5XNp5yRyAz12k68Q%2C%2C&do-waremd5=YuRXa1lufHcEw8UiZZe8BQ']"
      ]
     },
     "execution_count": 35,
     "metadata": {},
     "output_type": "execute_result"
    }
   ],
   "source": [
    "crawl_products(2)"
   ]
  },
  {
   "cell_type": "code",
   "execution_count": null,
   "id": "db75be35",
   "metadata": {},
   "outputs": [],
   "source": []
  }
 ],
 "metadata": {
  "kernelspec": {
   "display_name": "Python 3 (ipykernel)",
   "language": "python",
   "name": "python3"
  },
  "language_info": {
   "codemirror_mode": {
    "name": "ipython",
    "version": 3
   },
   "file_extension": ".py",
   "mimetype": "text/x-python",
   "name": "python",
   "nbconvert_exporter": "python",
   "pygments_lexer": "ipython3",
   "version": "3.11.1"
  }
 },
 "nbformat": 4,
 "nbformat_minor": 5
}
