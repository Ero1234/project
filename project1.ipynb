{
 "cells": [
  {
   "cell_type": "code",
   "execution_count": 1,
   "id": "8d4b1732",
   "metadata": {},
   "outputs": [],
   "source": [
    "import numpy as np\n",
    "import pandas as pd\n",
    "\n",
    "import scipy.stats as sts\n",
    "import matplotlib.pyplot as plt\n",
    "import seaborn as sns\n",
    "import os\n",
    "import csv"
   ]
  },
  {
   "cell_type": "code",
   "execution_count": 2,
   "id": "a7dc6732",
   "metadata": {},
   "outputs": [],
   "source": [
    "os.chdir('D:\\\\test\\project')"
   ]
  },
  {
   "cell_type": "code",
   "execution_count": 3,
   "id": "fc521a68",
   "metadata": {},
   "outputs": [],
   "source": [
    "file = 'shipping_data.xlsx'"
   ]
  },
  {
   "cell_type": "code",
   "execution_count": 4,
   "id": "e1eb1d14",
   "metadata": {},
   "outputs": [],
   "source": [
    "reader_object = csv.reader(file, delimiter = \",\")"
   ]
  },
  {
   "cell_type": "code",
   "execution_count": 5,
   "id": "06150118",
   "metadata": {},
   "outputs": [
    {
     "data": {
      "text/plain": [
       "<_csv.reader at 0x22c9ba50940>"
      ]
     },
     "execution_count": 5,
     "metadata": {},
     "output_type": "execute_result"
    }
   ],
   "source": [
    "reader_object"
   ]
  },
  {
   "cell_type": "code",
   "execution_count": 6,
   "id": "11bd6576",
   "metadata": {},
   "outputs": [],
   "source": [
    "df = pd.read_csv('shipping_data.csv', sep=',')"
   ]
  },
  {
   "cell_type": "code",
   "execution_count": 7,
   "id": "3dbdd893",
   "metadata": {},
   "outputs": [
    {
     "data": {
      "text/plain": [
       "{'2023-03-12',\n",
       " '2023-03-13',\n",
       " '2023-03-14',\n",
       " '2023-03-15',\n",
       " '2023-03-16',\n",
       " '2023-03-17',\n",
       " '2023-03-18',\n",
       " '2023-03-19',\n",
       " '2023-03-20',\n",
       " '2023-03-21',\n",
       " '2023-03-22',\n",
       " '2023-03-23',\n",
       " '2023-03-24',\n",
       " '2023-03-25',\n",
       " '2023-03-26',\n",
       " '2023-03-27',\n",
       " '2023-03-28',\n",
       " nan}"
      ]
     },
     "execution_count": 7,
     "metadata": {},
     "output_type": "execute_result"
    }
   ],
   "source": [
    "set(df['shipment date'])"
   ]
  },
  {
   "cell_type": "code",
   "execution_count": 8,
   "id": "e175111f",
   "metadata": {},
   "outputs": [
    {
     "data": {
      "text/plain": [
       "(263821, 8)"
      ]
     },
     "execution_count": 8,
     "metadata": {},
     "output_type": "execute_result"
    }
   ],
   "source": [
    "df.shape\n"
   ]
  },
  {
   "cell_type": "code",
   "execution_count": 9,
   "id": "528c8ba1",
   "metadata": {},
   "outputs": [
    {
     "data": {
      "text/html": [
       "<div>\n",
       "<style scoped>\n",
       "    .dataframe tbody tr th:only-of-type {\n",
       "        vertical-align: middle;\n",
       "    }\n",
       "\n",
       "    .dataframe tbody tr th {\n",
       "        vertical-align: top;\n",
       "    }\n",
       "\n",
       "    .dataframe thead th {\n",
       "        text-align: right;\n",
       "    }\n",
       "</style>\n",
       "<table border=\"1\" class=\"dataframe\">\n",
       "  <thead>\n",
       "    <tr style=\"text-align: right;\">\n",
       "      <th></th>\n",
       "      <th>name</th>\n",
       "      <th>price ($)</th>\n",
       "      <th>weight (kg)</th>\n",
       "      <th>length (m)</th>\n",
       "      <th>width (m)</th>\n",
       "      <th>height (m)</th>\n",
       "      <th>shipment date</th>\n",
       "      <th>destination port</th>\n",
       "    </tr>\n",
       "  </thead>\n",
       "  <tbody>\n",
       "    <tr>\n",
       "      <th>0</th>\n",
       "      <td>Camera Bag</td>\n",
       "      <td>37.66</td>\n",
       "      <td>1.10</td>\n",
       "      <td>0.40</td>\n",
       "      <td>0.39</td>\n",
       "      <td>0.26</td>\n",
       "      <td>2023-03-19</td>\n",
       "      <td>Port of Singapore (Singapore)</td>\n",
       "    </tr>\n",
       "    <tr>\n",
       "      <th>1</th>\n",
       "      <td>Portable Bluetooth Keyboard</td>\n",
       "      <td>144.65</td>\n",
       "      <td>0.39</td>\n",
       "      <td>0.11</td>\n",
       "      <td>0.06</td>\n",
       "      <td>0.03</td>\n",
       "      <td>2023-03-21</td>\n",
       "      <td>Port of Busan (South Korea)</td>\n",
       "    </tr>\n",
       "    <tr>\n",
       "      <th>2</th>\n",
       "      <td>Large Flat Rate Box</td>\n",
       "      <td>38.57</td>\n",
       "      <td>0.97</td>\n",
       "      <td>0.79</td>\n",
       "      <td>0.55</td>\n",
       "      <td>0.35</td>\n",
       "      <td>2023-03-25</td>\n",
       "      <td>Port of Tianjin (China)</td>\n",
       "    </tr>\n",
       "    <tr>\n",
       "      <th>3</th>\n",
       "      <td>Ceramic Tiles</td>\n",
       "      <td>10.34</td>\n",
       "      <td>6.22</td>\n",
       "      <td>0.36</td>\n",
       "      <td>0.37</td>\n",
       "      <td>0.02</td>\n",
       "      <td>2023-03-15</td>\n",
       "      <td>Port of Shanghai (China)</td>\n",
       "    </tr>\n",
       "    <tr>\n",
       "      <th>4</th>\n",
       "      <td>Garden Hose</td>\n",
       "      <td>21.63</td>\n",
       "      <td>1.18</td>\n",
       "      <td>17.77</td>\n",
       "      <td>0.27</td>\n",
       "      <td>0.13</td>\n",
       "      <td>2023-03-25</td>\n",
       "      <td>Port of Tianjin (China)</td>\n",
       "    </tr>\n",
       "    <tr>\n",
       "      <th>...</th>\n",
       "      <td>...</td>\n",
       "      <td>...</td>\n",
       "      <td>...</td>\n",
       "      <td>...</td>\n",
       "      <td>...</td>\n",
       "      <td>...</td>\n",
       "      <td>...</td>\n",
       "      <td>...</td>\n",
       "    </tr>\n",
       "    <tr>\n",
       "      <th>263816</th>\n",
       "      <td>Canister</td>\n",
       "      <td>23.58</td>\n",
       "      <td>3.80</td>\n",
       "      <td>0.38</td>\n",
       "      <td>0.37</td>\n",
       "      <td>0.28</td>\n",
       "      <td>2023-03-13</td>\n",
       "      <td>Port of Busan (South Korea)</td>\n",
       "    </tr>\n",
       "    <tr>\n",
       "      <th>263817</th>\n",
       "      <td>Plant</td>\n",
       "      <td>15.98</td>\n",
       "      <td>1.20</td>\n",
       "      <td>0.42</td>\n",
       "      <td>0.29</td>\n",
       "      <td>0.34</td>\n",
       "      <td>2023-03-15</td>\n",
       "      <td>Port of Tokyo (Japan)</td>\n",
       "    </tr>\n",
       "    <tr>\n",
       "      <th>263818</th>\n",
       "      <td>Pallete of Dog Food</td>\n",
       "      <td>223.05</td>\n",
       "      <td>477.58</td>\n",
       "      <td>1.00</td>\n",
       "      <td>0.92</td>\n",
       "      <td>1.48</td>\n",
       "      <td>2023-03-19</td>\n",
       "      <td>Port of Tokyo (Japan)</td>\n",
       "    </tr>\n",
       "    <tr>\n",
       "      <th>263819</th>\n",
       "      <td>Coffee Maker</td>\n",
       "      <td>169.09</td>\n",
       "      <td>2.52</td>\n",
       "      <td>0.26</td>\n",
       "      <td>0.20</td>\n",
       "      <td>0.29</td>\n",
       "      <td>2023-03-20</td>\n",
       "      <td>Port of Shanghai (China)</td>\n",
       "    </tr>\n",
       "    <tr>\n",
       "      <th>263820</th>\n",
       "      <td>Pallete of Laptops</td>\n",
       "      <td>11674.74</td>\n",
       "      <td>24855.97</td>\n",
       "      <td>0.63</td>\n",
       "      <td>0.52</td>\n",
       "      <td>0.14</td>\n",
       "      <td>2023-03-22</td>\n",
       "      <td>Port of Shanghai (China)</td>\n",
       "    </tr>\n",
       "  </tbody>\n",
       "</table>\n",
       "<p>263821 rows × 8 columns</p>\n",
       "</div>"
      ],
      "text/plain": [
       "                               name  price ($)  weight (kg)  length (m)  \\\n",
       "0                        Camera Bag      37.66         1.10        0.40   \n",
       "1       Portable Bluetooth Keyboard     144.65         0.39        0.11   \n",
       "2               Large Flat Rate Box      38.57         0.97        0.79   \n",
       "3                     Ceramic Tiles      10.34         6.22        0.36   \n",
       "4                       Garden Hose      21.63         1.18       17.77   \n",
       "...                             ...        ...          ...         ...   \n",
       "263816                     Canister      23.58         3.80        0.38   \n",
       "263817                        Plant      15.98         1.20        0.42   \n",
       "263818          Pallete of Dog Food     223.05       477.58        1.00   \n",
       "263819                 Coffee Maker     169.09         2.52        0.26   \n",
       "263820           Pallete of Laptops   11674.74     24855.97        0.63   \n",
       "\n",
       "        width (m)  height (m) shipment date               destination port  \n",
       "0            0.39        0.26    2023-03-19  Port of Singapore (Singapore)  \n",
       "1            0.06        0.03    2023-03-21    Port of Busan (South Korea)  \n",
       "2            0.55        0.35    2023-03-25        Port of Tianjin (China)  \n",
       "3            0.37        0.02    2023-03-15       Port of Shanghai (China)  \n",
       "4            0.27        0.13    2023-03-25        Port of Tianjin (China)  \n",
       "...           ...         ...           ...                            ...  \n",
       "263816       0.37        0.28    2023-03-13    Port of Busan (South Korea)  \n",
       "263817       0.29        0.34    2023-03-15          Port of Tokyo (Japan)  \n",
       "263818       0.92        1.48    2023-03-19          Port of Tokyo (Japan)  \n",
       "263819       0.20        0.29    2023-03-20       Port of Shanghai (China)  \n",
       "263820       0.52        0.14    2023-03-22       Port of Shanghai (China)  \n",
       "\n",
       "[263821 rows x 8 columns]"
      ]
     },
     "execution_count": 9,
     "metadata": {},
     "output_type": "execute_result"
    }
   ],
   "source": [
    "df\n"
   ]
  },
  {
   "cell_type": "code",
   "execution_count": 10,
   "id": "658a6f93",
   "metadata": {},
   "outputs": [
    {
     "name": "stdout",
     "output_type": "stream",
     "text": [
      "<class 'pandas.core.frame.DataFrame'>\n",
      "RangeIndex: 263821 entries, 0 to 263820\n",
      "Data columns (total 8 columns):\n",
      " #   Column            Non-Null Count   Dtype  \n",
      "---  ------            --------------   -----  \n",
      " 0   name              263821 non-null  object \n",
      " 1   price ($)         263821 non-null  float64\n",
      " 2   weight (kg)       263808 non-null  float64\n",
      " 3   length (m)        263637 non-null  float64\n",
      " 4   width (m)         263821 non-null  float64\n",
      " 5   height (m)        263821 non-null  float64\n",
      " 6   shipment date     261183 non-null  object \n",
      " 7   destination port  263795 non-null  object \n",
      "dtypes: float64(5), object(3)\n",
      "memory usage: 16.1+ MB\n"
     ]
    }
   ],
   "source": [
    "df.info()"
   ]
  },
  {
   "cell_type": "code",
   "execution_count": 11,
   "id": "943561b6",
   "metadata": {},
   "outputs": [
    {
     "data": {
      "text/plain": [
       "Index(['name', 'price ($)', 'weight (kg)', 'length (m)', 'width (m)',\n",
       "       'height (m)', 'shipment date', 'destination port'],\n",
       "      dtype='object')"
      ]
     },
     "execution_count": 11,
     "metadata": {},
     "output_type": "execute_result"
    }
   ],
   "source": [
    "df.columns"
   ]
  },
  {
   "cell_type": "code",
   "execution_count": 12,
   "id": "a67a7c27",
   "metadata": {},
   "outputs": [
    {
     "data": {
      "text/plain": [
       "name                   0\n",
       "price ($)              0\n",
       "weight (kg)           13\n",
       "length (m)           184\n",
       "width (m)              0\n",
       "height (m)             0\n",
       "shipment date       2638\n",
       "destination port      26\n",
       "dtype: int64"
      ]
     },
     "execution_count": 12,
     "metadata": {},
     "output_type": "execute_result"
    }
   ],
   "source": [
    "df.isnull().sum()"
   ]
  },
  {
   "cell_type": "code",
   "execution_count": 13,
   "id": "58323171",
   "metadata": {},
   "outputs": [
    {
     "data": {
      "image/png": "[encoded data removed]",
      "text/plain": [
       "<Figure size 640x480 with 1 Axes>"
      ]
     },
     "metadata": {},
     "output_type": "display_data"
    }
   ],
   "source": [
    "sns_heatmap = sns.heatmap(df.sample(5000).isnull(), \n",
    "                          yticklabels=False, \n",
    "                          cbar=False, \n",
    "                          cmap='viridis')"
   ]
  },
  {
   "cell_type": "code",
   "execution_count": 14,
   "id": "71f404b6",
   "metadata": {},
   "outputs": [
    {
     "data": {
      "text/html": [
       "<div>\n",
       "<style scoped>\n",
       "    .dataframe tbody tr th:only-of-type {\n",
       "        vertical-align: middle;\n",
       "    }\n",
       "\n",
       "    .dataframe tbody tr th {\n",
       "        vertical-align: top;\n",
       "    }\n",
       "\n",
       "    .dataframe thead th {\n",
       "        text-align: right;\n",
       "    }\n",
       "</style>\n",
       "<table border=\"1\" class=\"dataframe\">\n",
       "  <thead>\n",
       "    <tr style=\"text-align: right;\">\n",
       "      <th></th>\n",
       "      <th>name</th>\n",
       "      <th>price ($)</th>\n",
       "      <th>weight (kg)</th>\n",
       "      <th>length (m)</th>\n",
       "      <th>width (m)</th>\n",
       "      <th>height (m)</th>\n",
       "      <th>shipment date</th>\n",
       "      <th>destination port</th>\n",
       "    </tr>\n",
       "  </thead>\n",
       "  <tbody>\n",
       "    <tr>\n",
       "      <th>6084</th>\n",
       "      <td>Portable Charger</td>\n",
       "      <td>38.84</td>\n",
       "      <td>NaN</td>\n",
       "      <td>0.13</td>\n",
       "      <td>0.07</td>\n",
       "      <td>0.03</td>\n",
       "      <td>2023-03-17</td>\n",
       "      <td>Port of Tianjin (China)</td>\n",
       "    </tr>\n",
       "    <tr>\n",
       "      <th>27873</th>\n",
       "      <td>Microphone</td>\n",
       "      <td>243.44</td>\n",
       "      <td>NaN</td>\n",
       "      <td>0.06</td>\n",
       "      <td>0.06</td>\n",
       "      <td>0.20</td>\n",
       "      <td>2023-03-27</td>\n",
       "      <td>Port of Tianjin (China)</td>\n",
       "    </tr>\n",
       "    <tr>\n",
       "      <th>62712</th>\n",
       "      <td>Pallete of Shoes</td>\n",
       "      <td>445.97</td>\n",
       "      <td>NaN</td>\n",
       "      <td>1.00</td>\n",
       "      <td>0.95</td>\n",
       "      <td>1.24</td>\n",
       "      <td>2023-03-16</td>\n",
       "      <td>Port of Busan (South Korea)</td>\n",
       "    </tr>\n",
       "    <tr>\n",
       "      <th>106435</th>\n",
       "      <td>Bed</td>\n",
       "      <td>451.19</td>\n",
       "      <td>NaN</td>\n",
       "      <td>2.23</td>\n",
       "      <td>1.88</td>\n",
       "      <td>1.03</td>\n",
       "      <td>2023-03-13</td>\n",
       "      <td>Port of Tokyo (Japan)</td>\n",
       "    </tr>\n",
       "    <tr>\n",
       "      <th>114334</th>\n",
       "      <td>Pallete of Tea</td>\n",
       "      <td>336.94</td>\n",
       "      <td>NaN</td>\n",
       "      <td>1.13</td>\n",
       "      <td>0.95</td>\n",
       "      <td>1.26</td>\n",
       "      <td>2023-03-26</td>\n",
       "      <td>Port of Tokyo (Japan)</td>\n",
       "    </tr>\n",
       "    <tr>\n",
       "      <th>134316</th>\n",
       "      <td>Computer</td>\n",
       "      <td>758.39</td>\n",
       "      <td>NaN</td>\n",
       "      <td>0.45</td>\n",
       "      <td>0.49</td>\n",
       "      <td>0.15</td>\n",
       "      <td>2023-03-12</td>\n",
       "      <td>Port of Tianjin (China)</td>\n",
       "    </tr>\n",
       "    <tr>\n",
       "      <th>143705</th>\n",
       "      <td>Stone Slabs</td>\n",
       "      <td>115.67</td>\n",
       "      <td>NaN</td>\n",
       "      <td>0.76</td>\n",
       "      <td>0.67</td>\n",
       "      <td>0.07</td>\n",
       "      <td>2023-03-13</td>\n",
       "      <td>Port of Singapore (Singapore)</td>\n",
       "    </tr>\n",
       "    <tr>\n",
       "      <th>146637</th>\n",
       "      <td>Dining Table</td>\n",
       "      <td>210.75</td>\n",
       "      <td>NaN</td>\n",
       "      <td>1.50</td>\n",
       "      <td>1.49</td>\n",
       "      <td>0.76</td>\n",
       "      <td>2023-03-19</td>\n",
       "      <td>Port of Tianjin (China)</td>\n",
       "    </tr>\n",
       "    <tr>\n",
       "      <th>162937</th>\n",
       "      <td>Soap Dispenser</td>\n",
       "      <td>13.61</td>\n",
       "      <td>NaN</td>\n",
       "      <td>0.13</td>\n",
       "      <td>0.17</td>\n",
       "      <td>0.28</td>\n",
       "      <td>2023-03-12</td>\n",
       "      <td>Port of Singapore (Singapore)</td>\n",
       "    </tr>\n",
       "    <tr>\n",
       "      <th>174575</th>\n",
       "      <td>Hoe</td>\n",
       "      <td>26.82</td>\n",
       "      <td>NaN</td>\n",
       "      <td>0.93</td>\n",
       "      <td>0.41</td>\n",
       "      <td>0.41</td>\n",
       "      <td>2023-03-26</td>\n",
       "      <td>Port of Busan (South Korea)</td>\n",
       "    </tr>\n",
       "    <tr>\n",
       "      <th>229151</th>\n",
       "      <td>Hair Dryer</td>\n",
       "      <td>31.90</td>\n",
       "      <td>NaN</td>\n",
       "      <td>0.21</td>\n",
       "      <td>0.10</td>\n",
       "      <td>0.16</td>\n",
       "      <td>2023-03-22</td>\n",
       "      <td>Port of Busan (South Korea)</td>\n",
       "    </tr>\n",
       "    <tr>\n",
       "      <th>230190</th>\n",
       "      <td>Portable Charger</td>\n",
       "      <td>46.96</td>\n",
       "      <td>NaN</td>\n",
       "      <td>0.13</td>\n",
       "      <td>0.09</td>\n",
       "      <td>0.04</td>\n",
       "      <td>2023-03-28</td>\n",
       "      <td>Port of Busan (South Korea)</td>\n",
       "    </tr>\n",
       "    <tr>\n",
       "      <th>254689</th>\n",
       "      <td>Big Bag with Coal</td>\n",
       "      <td>146.59</td>\n",
       "      <td>NaN</td>\n",
       "      <td>1.79</td>\n",
       "      <td>0.81</td>\n",
       "      <td>0.19</td>\n",
       "      <td>2023-03-28</td>\n",
       "      <td>Port of Shanghai (China)</td>\n",
       "    </tr>\n",
       "  </tbody>\n",
       "</table>\n",
       "</div>"
      ],
      "text/plain": [
       "                     name  price ($)  weight (kg)  length (m)  width (m)  \\\n",
       "6084     Portable Charger      38.84          NaN        0.13       0.07   \n",
       "27873          Microphone     243.44          NaN        0.06       0.06   \n",
       "62712    Pallete of Shoes     445.97          NaN        1.00       0.95   \n",
       "106435                Bed     451.19          NaN        2.23       1.88   \n",
       "114334     Pallete of Tea     336.94          NaN        1.13       0.95   \n",
       "134316           Computer     758.39          NaN        0.45       0.49   \n",
       "143705        Stone Slabs     115.67          NaN        0.76       0.67   \n",
       "146637       Dining Table     210.75          NaN        1.50       1.49   \n",
       "162937     Soap Dispenser      13.61          NaN        0.13       0.17   \n",
       "174575                Hoe      26.82          NaN        0.93       0.41   \n",
       "229151         Hair Dryer      31.90          NaN        0.21       0.10   \n",
       "230190   Portable Charger      46.96          NaN        0.13       0.09   \n",
       "254689  Big Bag with Coal     146.59          NaN        1.79       0.81   \n",
       "\n",
       "        height (m) shipment date               destination port  \n",
       "6084          0.03    2023-03-17        Port of Tianjin (China)  \n",
       "27873         0.20    2023-03-27        Port of Tianjin (China)  \n",
       "62712         1.24    2023-03-16    Port of Busan (South Korea)  \n",
       "106435        1.03    2023-03-13          Port of Tokyo (Japan)  \n",
       "114334        1.26    2023-03-26          Port of Tokyo (Japan)  \n",
       "134316        0.15    2023-03-12        Port of Tianjin (China)  \n",
       "143705        0.07    2023-03-13  Port of Singapore (Singapore)  \n",
       "146637        0.76    2023-03-19        Port of Tianjin (China)  \n",
       "162937        0.28    2023-03-12  Port of Singapore (Singapore)  \n",
       "174575        0.41    2023-03-26    Port of Busan (South Korea)  \n",
       "229151        0.16    2023-03-22    Port of Busan (South Korea)  \n",
       "230190        0.04    2023-03-28    Port of Busan (South Korea)  \n",
       "254689        0.19    2023-03-28       Port of Shanghai (China)  "
      ]
     },
     "execution_count": 14,
     "metadata": {},
     "output_type": "execute_result"
    }
   ],
   "source": [
    "df.loc[df['weight (kg)'].isnull() == True]"
   ]
  },
  {
   "cell_type": "code",
   "execution_count": 15,
   "id": "34b8dc54",
   "metadata": {},
   "outputs": [],
   "source": [
    "df['volume']= df['length (m)']*df['width (m)']*df['height (m)']\n",
    "#добавляем обьем"
   ]
  },
  {
   "cell_type": "code",
   "execution_count": 16,
   "id": "e8e33916",
   "metadata": {},
   "outputs": [],
   "source": [
    "df2 = df.loc[df['name'] == 'Portable Charger']\n",
    "#собираем все зарядки"
   ]
  },
  {
   "cell_type": "code",
   "execution_count": 17,
   "id": "43633ade",
   "metadata": {},
   "outputs": [
    {
     "data": {
      "text/plain": [
       "1744.265013559736"
      ]
     },
     "execution_count": 17,
     "metadata": {},
     "output_type": "execute_result"
    }
   ],
   "source": [
    "k2=df2['weight (kg)']/df2['volume']\n",
    "k2.mean()\n",
    "#находим коэффициент веса на единицу обьема"
   ]
  },
  {
   "cell_type": "code",
   "execution_count": 18,
   "id": "682a8e55",
   "metadata": {},
   "outputs": [],
   "source": [
    "#заполняем значение веса обьемом умноженным на коэффициент категории\n",
    "df.loc[df['name'] == 'Portable Charger', 'weight (kg)'] = df.loc[df['name'] == 'Portable Charger', 'weight (kg)'].fillna(k2.mean() * df['volume'])"
   ]
  },
  {
   "cell_type": "code",
   "execution_count": 19,
   "id": "53220a34",
   "metadata": {},
   "outputs": [
    {
     "data": {
      "text/html": [
       "<div>\n",
       "<style scoped>\n",
       "    .dataframe tbody tr th:only-of-type {\n",
       "        vertical-align: middle;\n",
       "    }\n",
       "\n",
       "    .dataframe tbody tr th {\n",
       "        vertical-align: top;\n",
       "    }\n",
       "\n",
       "    .dataframe thead th {\n",
       "        text-align: right;\n",
       "    }\n",
       "</style>\n",
       "<table border=\"1\" class=\"dataframe\">\n",
       "  <thead>\n",
       "    <tr style=\"text-align: right;\">\n",
       "      <th></th>\n",
       "      <th>name</th>\n",
       "      <th>price ($)</th>\n",
       "      <th>weight (kg)</th>\n",
       "      <th>length (m)</th>\n",
       "      <th>width (m)</th>\n",
       "      <th>height (m)</th>\n",
       "      <th>shipment date</th>\n",
       "      <th>destination port</th>\n",
       "      <th>volume</th>\n",
       "    </tr>\n",
       "  </thead>\n",
       "  <tbody>\n",
       "    <tr>\n",
       "      <th>27873</th>\n",
       "      <td>Microphone</td>\n",
       "      <td>243.44</td>\n",
       "      <td>NaN</td>\n",
       "      <td>0.06</td>\n",
       "      <td>0.06</td>\n",
       "      <td>0.20</td>\n",
       "      <td>2023-03-27</td>\n",
       "      <td>Port of Tianjin (China)</td>\n",
       "      <td>0.000720</td>\n",
       "    </tr>\n",
       "    <tr>\n",
       "      <th>62712</th>\n",
       "      <td>Pallete of Shoes</td>\n",
       "      <td>445.97</td>\n",
       "      <td>NaN</td>\n",
       "      <td>1.00</td>\n",
       "      <td>0.95</td>\n",
       "      <td>1.24</td>\n",
       "      <td>2023-03-16</td>\n",
       "      <td>Port of Busan (South Korea)</td>\n",
       "      <td>1.178000</td>\n",
       "    </tr>\n",
       "    <tr>\n",
       "      <th>106435</th>\n",
       "      <td>Bed</td>\n",
       "      <td>451.19</td>\n",
       "      <td>NaN</td>\n",
       "      <td>2.23</td>\n",
       "      <td>1.88</td>\n",
       "      <td>1.03</td>\n",
       "      <td>2023-03-13</td>\n",
       "      <td>Port of Tokyo (Japan)</td>\n",
       "      <td>4.318172</td>\n",
       "    </tr>\n",
       "    <tr>\n",
       "      <th>114334</th>\n",
       "      <td>Pallete of Tea</td>\n",
       "      <td>336.94</td>\n",
       "      <td>NaN</td>\n",
       "      <td>1.13</td>\n",
       "      <td>0.95</td>\n",
       "      <td>1.26</td>\n",
       "      <td>2023-03-26</td>\n",
       "      <td>Port of Tokyo (Japan)</td>\n",
       "      <td>1.352610</td>\n",
       "    </tr>\n",
       "    <tr>\n",
       "      <th>134316</th>\n",
       "      <td>Computer</td>\n",
       "      <td>758.39</td>\n",
       "      <td>NaN</td>\n",
       "      <td>0.45</td>\n",
       "      <td>0.49</td>\n",
       "      <td>0.15</td>\n",
       "      <td>2023-03-12</td>\n",
       "      <td>Port of Tianjin (China)</td>\n",
       "      <td>0.033075</td>\n",
       "    </tr>\n",
       "    <tr>\n",
       "      <th>143705</th>\n",
       "      <td>Stone Slabs</td>\n",
       "      <td>115.67</td>\n",
       "      <td>NaN</td>\n",
       "      <td>0.76</td>\n",
       "      <td>0.67</td>\n",
       "      <td>0.07</td>\n",
       "      <td>2023-03-13</td>\n",
       "      <td>Port of Singapore (Singapore)</td>\n",
       "      <td>0.035644</td>\n",
       "    </tr>\n",
       "    <tr>\n",
       "      <th>146637</th>\n",
       "      <td>Dining Table</td>\n",
       "      <td>210.75</td>\n",
       "      <td>NaN</td>\n",
       "      <td>1.50</td>\n",
       "      <td>1.49</td>\n",
       "      <td>0.76</td>\n",
       "      <td>2023-03-19</td>\n",
       "      <td>Port of Tianjin (China)</td>\n",
       "      <td>1.698600</td>\n",
       "    </tr>\n",
       "    <tr>\n",
       "      <th>162937</th>\n",
       "      <td>Soap Dispenser</td>\n",
       "      <td>13.61</td>\n",
       "      <td>NaN</td>\n",
       "      <td>0.13</td>\n",
       "      <td>0.17</td>\n",
       "      <td>0.28</td>\n",
       "      <td>2023-03-12</td>\n",
       "      <td>Port of Singapore (Singapore)</td>\n",
       "      <td>0.006188</td>\n",
       "    </tr>\n",
       "    <tr>\n",
       "      <th>174575</th>\n",
       "      <td>Hoe</td>\n",
       "      <td>26.82</td>\n",
       "      <td>NaN</td>\n",
       "      <td>0.93</td>\n",
       "      <td>0.41</td>\n",
       "      <td>0.41</td>\n",
       "      <td>2023-03-26</td>\n",
       "      <td>Port of Busan (South Korea)</td>\n",
       "      <td>0.156333</td>\n",
       "    </tr>\n",
       "    <tr>\n",
       "      <th>229151</th>\n",
       "      <td>Hair Dryer</td>\n",
       "      <td>31.90</td>\n",
       "      <td>NaN</td>\n",
       "      <td>0.21</td>\n",
       "      <td>0.10</td>\n",
       "      <td>0.16</td>\n",
       "      <td>2023-03-22</td>\n",
       "      <td>Port of Busan (South Korea)</td>\n",
       "      <td>0.003360</td>\n",
       "    </tr>\n",
       "    <tr>\n",
       "      <th>254689</th>\n",
       "      <td>Big Bag with Coal</td>\n",
       "      <td>146.59</td>\n",
       "      <td>NaN</td>\n",
       "      <td>1.79</td>\n",
       "      <td>0.81</td>\n",
       "      <td>0.19</td>\n",
       "      <td>2023-03-28</td>\n",
       "      <td>Port of Shanghai (China)</td>\n",
       "      <td>0.275481</td>\n",
       "    </tr>\n",
       "  </tbody>\n",
       "</table>\n",
       "</div>"
      ],
      "text/plain": [
       "                     name  price ($)  weight (kg)  length (m)  width (m)  \\\n",
       "27873          Microphone     243.44          NaN        0.06       0.06   \n",
       "62712    Pallete of Shoes     445.97          NaN        1.00       0.95   \n",
       "106435                Bed     451.19          NaN        2.23       1.88   \n",
       "114334     Pallete of Tea     336.94          NaN        1.13       0.95   \n",
       "134316           Computer     758.39          NaN        0.45       0.49   \n",
       "143705        Stone Slabs     115.67          NaN        0.76       0.67   \n",
       "146637       Dining Table     210.75          NaN        1.50       1.49   \n",
       "162937     Soap Dispenser      13.61          NaN        0.13       0.17   \n",
       "174575                Hoe      26.82          NaN        0.93       0.41   \n",
       "229151         Hair Dryer      31.90          NaN        0.21       0.10   \n",
       "254689  Big Bag with Coal     146.59          NaN        1.79       0.81   \n",
       "\n",
       "        height (m) shipment date               destination port    volume  \n",
       "27873         0.20    2023-03-27        Port of Tianjin (China)  0.000720  \n",
       "62712         1.24    2023-03-16    Port of Busan (South Korea)  1.178000  \n",
       "106435        1.03    2023-03-13          Port of Tokyo (Japan)  4.318172  \n",
       "114334        1.26    2023-03-26          Port of Tokyo (Japan)  1.352610  \n",
       "134316        0.15    2023-03-12        Port of Tianjin (China)  0.033075  \n",
       "143705        0.07    2023-03-13  Port of Singapore (Singapore)  0.035644  \n",
       "146637        0.76    2023-03-19        Port of Tianjin (China)  1.698600  \n",
       "162937        0.28    2023-03-12  Port of Singapore (Singapore)  0.006188  \n",
       "174575        0.41    2023-03-26    Port of Busan (South Korea)  0.156333  \n",
       "229151        0.16    2023-03-22    Port of Busan (South Korea)  0.003360  \n",
       "254689        0.19    2023-03-28       Port of Shanghai (China)  0.275481  "
      ]
     },
     "execution_count": 19,
     "metadata": {},
     "output_type": "execute_result"
    }
   ],
   "source": [
    "df.loc[df['weight (kg)'].isnull() == True]"
   ]
  },
  {
   "cell_type": "code",
   "execution_count": 20,
   "id": "3873a803",
   "metadata": {},
   "outputs": [
    {
     "data": {
      "text/plain": [
       "264.7427259669348"
      ]
     },
     "execution_count": 20,
     "metadata": {},
     "output_type": "execute_result"
    }
   ],
   "source": [
    "k3 = df.loc[df['name'] == 'Microphone', 'weight (kg)'] / df.loc[df['name'] == 'Microphone', 'volume']\n",
    "k3.mean()"
   ]
  },
  {
   "cell_type": "code",
   "execution_count": 21,
   "id": "d90959d2",
   "metadata": {},
   "outputs": [],
   "source": [
    "df.loc[df['name'] == 'Microphone', 'weight (kg)'] = df.loc[df['name'] == 'Microphone', 'weight (kg)'].fillna(k3.mean() * df['volume'])"
   ]
  },
  {
   "cell_type": "code",
   "execution_count": 22,
   "id": "a892932a",
   "metadata": {},
   "outputs": [
    {
     "data": {
      "text/plain": [
       "2864.102756992252"
      ]
     },
     "execution_count": 22,
     "metadata": {},
     "output_type": "execute_result"
    }
   ],
   "source": [
    "k4 = df.loc[df['name'] == 'Pallete of Shoes', 'weight (kg)'] / df.loc[df['name'] == 'Pallete of Shoes', 'volume']\n",
    "k4.mean()"
   ]
  },
  {
   "cell_type": "code",
   "execution_count": 23,
   "id": "3f3871ee",
   "metadata": {},
   "outputs": [],
   "source": [
    "df.loc[df['name'] == 'Pallete of Shoes', 'weight (kg)'] = df.loc[df['name'] == 'Pallete of Shoes', 'weight (kg)'].fillna(k4.mean() * df['volume'])"
   ]
  },
  {
   "cell_type": "code",
   "execution_count": 24,
   "id": "53a257b2",
   "metadata": {},
   "outputs": [
    {
     "data": {
      "text/plain": [
       "27.425564912223237"
      ]
     },
     "execution_count": 24,
     "metadata": {},
     "output_type": "execute_result"
    }
   ],
   "source": [
    "k5 = df.loc[df['name'] == 'Bed', 'weight (kg)'] / df.loc[df['name'] == 'Bed', 'volume']\n",
    "k5.mean()"
   ]
  },
  {
   "cell_type": "code",
   "execution_count": 25,
   "id": "7f686bae",
   "metadata": {},
   "outputs": [],
   "source": [
    "df.loc[df['name'] == 'Bed', 'weight (kg)'] = df.loc[df['name'] == 'Bed', 'weight (kg)'].fillna(k5.mean() * df['volume'])"
   ]
  },
  {
   "cell_type": "code",
   "execution_count": 26,
   "id": "ad281527",
   "metadata": {},
   "outputs": [
    {
     "data": {
      "text/html": [
       "<div>\n",
       "<style scoped>\n",
       "    .dataframe tbody tr th:only-of-type {\n",
       "        vertical-align: middle;\n",
       "    }\n",
       "\n",
       "    .dataframe tbody tr th {\n",
       "        vertical-align: top;\n",
       "    }\n",
       "\n",
       "    .dataframe thead th {\n",
       "        text-align: right;\n",
       "    }\n",
       "</style>\n",
       "<table border=\"1\" class=\"dataframe\">\n",
       "  <thead>\n",
       "    <tr style=\"text-align: right;\">\n",
       "      <th></th>\n",
       "      <th>name</th>\n",
       "      <th>price ($)</th>\n",
       "      <th>weight (kg)</th>\n",
       "      <th>length (m)</th>\n",
       "      <th>width (m)</th>\n",
       "      <th>height (m)</th>\n",
       "      <th>shipment date</th>\n",
       "      <th>destination port</th>\n",
       "      <th>volume</th>\n",
       "    </tr>\n",
       "  </thead>\n",
       "  <tbody>\n",
       "    <tr>\n",
       "      <th>114334</th>\n",
       "      <td>Pallete of Tea</td>\n",
       "      <td>336.94</td>\n",
       "      <td>NaN</td>\n",
       "      <td>1.13</td>\n",
       "      <td>0.95</td>\n",
       "      <td>1.26</td>\n",
       "      <td>2023-03-26</td>\n",
       "      <td>Port of Tokyo (Japan)</td>\n",
       "      <td>1.352610</td>\n",
       "    </tr>\n",
       "    <tr>\n",
       "      <th>134316</th>\n",
       "      <td>Computer</td>\n",
       "      <td>758.39</td>\n",
       "      <td>NaN</td>\n",
       "      <td>0.45</td>\n",
       "      <td>0.49</td>\n",
       "      <td>0.15</td>\n",
       "      <td>2023-03-12</td>\n",
       "      <td>Port of Tianjin (China)</td>\n",
       "      <td>0.033075</td>\n",
       "    </tr>\n",
       "    <tr>\n",
       "      <th>143705</th>\n",
       "      <td>Stone Slabs</td>\n",
       "      <td>115.67</td>\n",
       "      <td>NaN</td>\n",
       "      <td>0.76</td>\n",
       "      <td>0.67</td>\n",
       "      <td>0.07</td>\n",
       "      <td>2023-03-13</td>\n",
       "      <td>Port of Singapore (Singapore)</td>\n",
       "      <td>0.035644</td>\n",
       "    </tr>\n",
       "    <tr>\n",
       "      <th>146637</th>\n",
       "      <td>Dining Table</td>\n",
       "      <td>210.75</td>\n",
       "      <td>NaN</td>\n",
       "      <td>1.50</td>\n",
       "      <td>1.49</td>\n",
       "      <td>0.76</td>\n",
       "      <td>2023-03-19</td>\n",
       "      <td>Port of Tianjin (China)</td>\n",
       "      <td>1.698600</td>\n",
       "    </tr>\n",
       "    <tr>\n",
       "      <th>162937</th>\n",
       "      <td>Soap Dispenser</td>\n",
       "      <td>13.61</td>\n",
       "      <td>NaN</td>\n",
       "      <td>0.13</td>\n",
       "      <td>0.17</td>\n",
       "      <td>0.28</td>\n",
       "      <td>2023-03-12</td>\n",
       "      <td>Port of Singapore (Singapore)</td>\n",
       "      <td>0.006188</td>\n",
       "    </tr>\n",
       "    <tr>\n",
       "      <th>174575</th>\n",
       "      <td>Hoe</td>\n",
       "      <td>26.82</td>\n",
       "      <td>NaN</td>\n",
       "      <td>0.93</td>\n",
       "      <td>0.41</td>\n",
       "      <td>0.41</td>\n",
       "      <td>2023-03-26</td>\n",
       "      <td>Port of Busan (South Korea)</td>\n",
       "      <td>0.156333</td>\n",
       "    </tr>\n",
       "    <tr>\n",
       "      <th>229151</th>\n",
       "      <td>Hair Dryer</td>\n",
       "      <td>31.90</td>\n",
       "      <td>NaN</td>\n",
       "      <td>0.21</td>\n",
       "      <td>0.10</td>\n",
       "      <td>0.16</td>\n",
       "      <td>2023-03-22</td>\n",
       "      <td>Port of Busan (South Korea)</td>\n",
       "      <td>0.003360</td>\n",
       "    </tr>\n",
       "    <tr>\n",
       "      <th>254689</th>\n",
       "      <td>Big Bag with Coal</td>\n",
       "      <td>146.59</td>\n",
       "      <td>NaN</td>\n",
       "      <td>1.79</td>\n",
       "      <td>0.81</td>\n",
       "      <td>0.19</td>\n",
       "      <td>2023-03-28</td>\n",
       "      <td>Port of Shanghai (China)</td>\n",
       "      <td>0.275481</td>\n",
       "    </tr>\n",
       "  </tbody>\n",
       "</table>\n",
       "</div>"
      ],
      "text/plain": [
       "                     name  price ($)  weight (kg)  length (m)  width (m)  \\\n",
       "114334     Pallete of Tea     336.94          NaN        1.13       0.95   \n",
       "134316           Computer     758.39          NaN        0.45       0.49   \n",
       "143705        Stone Slabs     115.67          NaN        0.76       0.67   \n",
       "146637       Dining Table     210.75          NaN        1.50       1.49   \n",
       "162937     Soap Dispenser      13.61          NaN        0.13       0.17   \n",
       "174575                Hoe      26.82          NaN        0.93       0.41   \n",
       "229151         Hair Dryer      31.90          NaN        0.21       0.10   \n",
       "254689  Big Bag with Coal     146.59          NaN        1.79       0.81   \n",
       "\n",
       "        height (m) shipment date               destination port    volume  \n",
       "114334        1.26    2023-03-26          Port of Tokyo (Japan)  1.352610  \n",
       "134316        0.15    2023-03-12        Port of Tianjin (China)  0.033075  \n",
       "143705        0.07    2023-03-13  Port of Singapore (Singapore)  0.035644  \n",
       "146637        0.76    2023-03-19        Port of Tianjin (China)  1.698600  \n",
       "162937        0.28    2023-03-12  Port of Singapore (Singapore)  0.006188  \n",
       "174575        0.41    2023-03-26    Port of Busan (South Korea)  0.156333  \n",
       "229151        0.16    2023-03-22    Port of Busan (South Korea)  0.003360  \n",
       "254689        0.19    2023-03-28       Port of Shanghai (China)  0.275481  "
      ]
     },
     "execution_count": 26,
     "metadata": {},
     "output_type": "execute_result"
    }
   ],
   "source": [
    "df.loc[df['weight (kg)'].isnull() == True]"
   ]
  },
  {
   "cell_type": "code",
   "execution_count": 27,
   "id": "606dfc73",
   "metadata": {},
   "outputs": [
    {
     "data": {
      "text/plain": [
       "568.9499788859747"
      ]
     },
     "execution_count": 27,
     "metadata": {},
     "output_type": "execute_result"
    }
   ],
   "source": [
    "k6 = df.loc[df['name'] == 'Pallete of Tea', 'weight (kg)'] / df.loc[df['name'] == 'Pallete of Tea', 'volume']\n",
    "k6.mean()"
   ]
  },
  {
   "cell_type": "code",
   "execution_count": 28,
   "id": "402fc3da",
   "metadata": {},
   "outputs": [],
   "source": [
    "df.loc[df['name'] == 'Pallete of Tea', 'weight (kg)'] = df.loc[df['name'] == 'Pallete of Tea', 'weight (kg)'].fillna(k6.mean() * df['volume'])"
   ]
  },
  {
   "cell_type": "code",
   "execution_count": 29,
   "id": "3eacd4b0",
   "metadata": {},
   "outputs": [
    {
     "data": {
      "text/plain": [
       "223.0172551207443"
      ]
     },
     "execution_count": 29,
     "metadata": {},
     "output_type": "execute_result"
    }
   ],
   "source": [
    "k7 = df.loc[df['name'] == 'Computer', 'weight (kg)'] / df.loc[df['name'] == 'Computer', 'volume']\n",
    "k7.mean()"
   ]
  },
  {
   "cell_type": "code",
   "execution_count": 30,
   "id": "bd0006c6",
   "metadata": {},
   "outputs": [],
   "source": [
    "df.loc[df['name'] == 'Computer', 'weight (kg)'] = df.loc[df['name'] == 'Computer', 'weight (kg)'].fillna(k7.mean() * df['volume'])"
   ]
  },
  {
   "cell_type": "code",
   "execution_count": 31,
   "id": "9457040b",
   "metadata": {},
   "outputs": [
    {
     "data": {
      "text/html": [
       "<div>\n",
       "<style scoped>\n",
       "    .dataframe tbody tr th:only-of-type {\n",
       "        vertical-align: middle;\n",
       "    }\n",
       "\n",
       "    .dataframe tbody tr th {\n",
       "        vertical-align: top;\n",
       "    }\n",
       "\n",
       "    .dataframe thead th {\n",
       "        text-align: right;\n",
       "    }\n",
       "</style>\n",
       "<table border=\"1\" class=\"dataframe\">\n",
       "  <thead>\n",
       "    <tr style=\"text-align: right;\">\n",
       "      <th></th>\n",
       "      <th>name</th>\n",
       "      <th>price ($)</th>\n",
       "      <th>weight (kg)</th>\n",
       "      <th>length (m)</th>\n",
       "      <th>width (m)</th>\n",
       "      <th>height (m)</th>\n",
       "      <th>shipment date</th>\n",
       "      <th>destination port</th>\n",
       "      <th>volume</th>\n",
       "    </tr>\n",
       "  </thead>\n",
       "  <tbody>\n",
       "    <tr>\n",
       "      <th>143705</th>\n",
       "      <td>Stone Slabs</td>\n",
       "      <td>115.67</td>\n",
       "      <td>NaN</td>\n",
       "      <td>0.76</td>\n",
       "      <td>0.67</td>\n",
       "      <td>0.07</td>\n",
       "      <td>2023-03-13</td>\n",
       "      <td>Port of Singapore (Singapore)</td>\n",
       "      <td>0.035644</td>\n",
       "    </tr>\n",
       "    <tr>\n",
       "      <th>146637</th>\n",
       "      <td>Dining Table</td>\n",
       "      <td>210.75</td>\n",
       "      <td>NaN</td>\n",
       "      <td>1.50</td>\n",
       "      <td>1.49</td>\n",
       "      <td>0.76</td>\n",
       "      <td>2023-03-19</td>\n",
       "      <td>Port of Tianjin (China)</td>\n",
       "      <td>1.698600</td>\n",
       "    </tr>\n",
       "    <tr>\n",
       "      <th>162937</th>\n",
       "      <td>Soap Dispenser</td>\n",
       "      <td>13.61</td>\n",
       "      <td>NaN</td>\n",
       "      <td>0.13</td>\n",
       "      <td>0.17</td>\n",
       "      <td>0.28</td>\n",
       "      <td>2023-03-12</td>\n",
       "      <td>Port of Singapore (Singapore)</td>\n",
       "      <td>0.006188</td>\n",
       "    </tr>\n",
       "    <tr>\n",
       "      <th>174575</th>\n",
       "      <td>Hoe</td>\n",
       "      <td>26.82</td>\n",
       "      <td>NaN</td>\n",
       "      <td>0.93</td>\n",
       "      <td>0.41</td>\n",
       "      <td>0.41</td>\n",
       "      <td>2023-03-26</td>\n",
       "      <td>Port of Busan (South Korea)</td>\n",
       "      <td>0.156333</td>\n",
       "    </tr>\n",
       "    <tr>\n",
       "      <th>229151</th>\n",
       "      <td>Hair Dryer</td>\n",
       "      <td>31.90</td>\n",
       "      <td>NaN</td>\n",
       "      <td>0.21</td>\n",
       "      <td>0.10</td>\n",
       "      <td>0.16</td>\n",
       "      <td>2023-03-22</td>\n",
       "      <td>Port of Busan (South Korea)</td>\n",
       "      <td>0.003360</td>\n",
       "    </tr>\n",
       "    <tr>\n",
       "      <th>254689</th>\n",
       "      <td>Big Bag with Coal</td>\n",
       "      <td>146.59</td>\n",
       "      <td>NaN</td>\n",
       "      <td>1.79</td>\n",
       "      <td>0.81</td>\n",
       "      <td>0.19</td>\n",
       "      <td>2023-03-28</td>\n",
       "      <td>Port of Shanghai (China)</td>\n",
       "      <td>0.275481</td>\n",
       "    </tr>\n",
       "  </tbody>\n",
       "</table>\n",
       "</div>"
      ],
      "text/plain": [
       "                     name  price ($)  weight (kg)  length (m)  width (m)  \\\n",
       "143705        Stone Slabs     115.67          NaN        0.76       0.67   \n",
       "146637       Dining Table     210.75          NaN        1.50       1.49   \n",
       "162937     Soap Dispenser      13.61          NaN        0.13       0.17   \n",
       "174575                Hoe      26.82          NaN        0.93       0.41   \n",
       "229151         Hair Dryer      31.90          NaN        0.21       0.10   \n",
       "254689  Big Bag with Coal     146.59          NaN        1.79       0.81   \n",
       "\n",
       "        height (m) shipment date               destination port    volume  \n",
       "143705        0.07    2023-03-13  Port of Singapore (Singapore)  0.035644  \n",
       "146637        0.76    2023-03-19        Port of Tianjin (China)  1.698600  \n",
       "162937        0.28    2023-03-12  Port of Singapore (Singapore)  0.006188  \n",
       "174575        0.41    2023-03-26    Port of Busan (South Korea)  0.156333  \n",
       "229151        0.16    2023-03-22    Port of Busan (South Korea)  0.003360  \n",
       "254689        0.19    2023-03-28       Port of Shanghai (China)  0.275481  "
      ]
     },
     "execution_count": 31,
     "metadata": {},
     "output_type": "execute_result"
    }
   ],
   "source": [
    "df.loc[df['weight (kg)'].isnull() == True]"
   ]
  },
  {
   "cell_type": "code",
   "execution_count": 33,
   "id": "f2b3731c",
   "metadata": {},
   "outputs": [
    {
     "data": {
      "text/plain": [
       "1969.1304396975984"
      ]
     },
     "execution_count": 33,
     "metadata": {},
     "output_type": "execute_result"
    }
   ],
   "source": [
    "k8 = df.loc[df['name'] == 'Stone Slabs', 'weight (kg)'] / df.loc[df['name'] == 'Stone Slabs', 'volume']\n",
    "k8.mean()"
   ]
  },
  {
   "cell_type": "code",
   "execution_count": 34,
   "id": "68c2cc0d",
   "metadata": {},
   "outputs": [],
   "source": [
    "df.loc[df['name'] == 'Stone Slabs', 'weight (kg)'] = df.loc[df['name'] == 'Stone Slabs', 'weight (kg)'].fillna(k8.mean() * df['volume'])"
   ]
  },
  {
   "cell_type": "code",
   "execution_count": 35,
   "id": "9711c648",
   "metadata": {},
   "outputs": [
    {
     "data": {
      "text/plain": [
       "51.95187417699099"
      ]
     },
     "execution_count": 35,
     "metadata": {},
     "output_type": "execute_result"
    }
   ],
   "source": [
    "k9 = df.loc[df['name'] == 'Dining Table', 'weight (kg)'] / df.loc[df['name'] == 'Dining Table', 'volume']\n",
    "k9.mean()"
   ]
  },
  {
   "cell_type": "code",
   "execution_count": 36,
   "id": "d33453e1",
   "metadata": {},
   "outputs": [],
   "source": [
    "df.loc[df['name'] == 'Dining Table', 'weight (kg)'] = df.loc[df['name'] == 'Dining Table', 'weight (kg)'].fillna(k9.mean() * df['volume'])"
   ]
  },
  {
   "cell_type": "code",
   "execution_count": 37,
   "id": "8a486bcd",
   "metadata": {},
   "outputs": [
    {
     "data": {
      "text/plain": [
       "95.42706945972608"
      ]
     },
     "execution_count": 37,
     "metadata": {},
     "output_type": "execute_result"
    }
   ],
   "source": [
    "k10 = df.loc[df['name'] == 'Soap Dispenser', 'weight (kg)'] / df.loc[df['name'] == 'Soap Dispenser', 'volume']\n",
    "k10.mean()"
   ]
  },
  {
   "cell_type": "code",
   "execution_count": 38,
   "id": "df261a4b",
   "metadata": {},
   "outputs": [],
   "source": [
    "df.loc[df['name'] == 'Soap Dispenser', 'weight (kg)'] = df.loc[df['name'] == 'Soap Dispenser', 'weight (kg)'].fillna(k10.mean() * df['volume'])"
   ]
  },
  {
   "cell_type": "code",
   "execution_count": 39,
   "id": "6956c79e",
   "metadata": {},
   "outputs": [
    {
     "data": {
      "text/plain": [
       "18.941454604010918"
      ]
     },
     "execution_count": 39,
     "metadata": {},
     "output_type": "execute_result"
    }
   ],
   "source": [
    "k11 = df.loc[df['name'] == 'Hoe', 'weight (kg)'] / df.loc[df['name'] == 'Hoe', 'volume']\n",
    "k11.mean()"
   ]
  },
  {
   "cell_type": "code",
   "execution_count": 40,
   "id": "e209e0de",
   "metadata": {},
   "outputs": [],
   "source": [
    "df.loc[df['name'] == 'Hoe', 'weight (kg)'] = df.loc[df['name'] == 'Hoe', 'weight (kg)'].fillna(k11.mean() * df['volume'])"
   ]
  },
  {
   "cell_type": "code",
   "execution_count": 41,
   "id": "cbbbbdda",
   "metadata": {},
   "outputs": [
    {
     "data": {
      "text/plain": [
       "215.73383096040848"
      ]
     },
     "execution_count": 41,
     "metadata": {},
     "output_type": "execute_result"
    }
   ],
   "source": [
    "k12 = df.loc[df['name'] == 'Hair Dryer', 'weight (kg)'] / df.loc[df['name'] == 'Hair Dryer', 'volume']\n",
    "k12.mean()"
   ]
  },
  {
   "cell_type": "code",
   "execution_count": 42,
   "id": "d25832fa",
   "metadata": {},
   "outputs": [],
   "source": [
    "df.loc[df['name'] == 'Hair Dryer', 'weight (kg)'] = df.loc[df['name'] == 'Hair Dryer', 'weight (kg)'].fillna(k12.mean() * df['volume'])"
   ]
  },
  {
   "cell_type": "code",
   "execution_count": 43,
   "id": "3b13a55a",
   "metadata": {},
   "outputs": [
    {
     "data": {
      "text/plain": [
       "4442.3982825030225"
      ]
     },
     "execution_count": 43,
     "metadata": {},
     "output_type": "execute_result"
    }
   ],
   "source": [
    "k13 = df.loc[df['name'] == 'Big Bag with Coal', 'weight (kg)'] / df.loc[df['name'] == 'Big Bag with Coal', 'volume']\n",
    "k13.mean()"
   ]
  },
  {
   "cell_type": "code",
   "execution_count": 44,
   "id": "5e76962b",
   "metadata": {},
   "outputs": [],
   "source": [
    "df.loc[df['name'] == 'Big Bag with Coal', 'weight (kg)'] = df.loc[df['name'] == 'Big Bag with Coal', 'weight (kg)'].fillna(k13.mean() * df['volume'])"
   ]
  },
  {
   "cell_type": "code",
   "execution_count": 93,
   "id": "86ba1b25",
   "metadata": {},
   "outputs": [
    {
     "data": {
      "text/plain": [
       "name                   0\n",
       "price ($)              0\n",
       "weight (kg)            0\n",
       "length (m)           184\n",
       "width (m)              0\n",
       "height (m)             0\n",
       "shipment date       2638\n",
       "destination port      26\n",
       "volume               184\n",
       "dtype: int64"
      ]
     },
     "execution_count": 93,
     "metadata": {},
     "output_type": "execute_result"
    }
   ],
   "source": [
    "#проверяем, все ли пропуски массы заполнены\n",
    "df.isnull().sum()"
   ]
  },
  {
   "cell_type": "code",
   "execution_count": 94,
   "id": "f6410b15",
   "metadata": {},
   "outputs": [
    {
     "data": {
      "text/html": [
       "<div>\n",
       "<style scoped>\n",
       "    .dataframe tbody tr th:only-of-type {\n",
       "        vertical-align: middle;\n",
       "    }\n",
       "\n",
       "    .dataframe tbody tr th {\n",
       "        vertical-align: top;\n",
       "    }\n",
       "\n",
       "    .dataframe thead th {\n",
       "        text-align: right;\n",
       "    }\n",
       "</style>\n",
       "<table border=\"1\" class=\"dataframe\">\n",
       "  <thead>\n",
       "    <tr style=\"text-align: right;\">\n",
       "      <th></th>\n",
       "      <th>name</th>\n",
       "      <th>price ($)</th>\n",
       "      <th>weight (kg)</th>\n",
       "      <th>length (m)</th>\n",
       "      <th>width (m)</th>\n",
       "      <th>height (m)</th>\n",
       "      <th>shipment date</th>\n",
       "      <th>destination port</th>\n",
       "      <th>volume</th>\n",
       "    </tr>\n",
       "  </thead>\n",
       "  <tbody>\n",
       "    <tr>\n",
       "      <th>2103</th>\n",
       "      <td>Pallete of Orange Juice</td>\n",
       "      <td>201.04</td>\n",
       "      <td>567.89</td>\n",
       "      <td>NaN</td>\n",
       "      <td>0.82</td>\n",
       "      <td>1.35</td>\n",
       "      <td>2023-03-14</td>\n",
       "      <td>Port of Busan (South Korea)</td>\n",
       "      <td>NaN</td>\n",
       "    </tr>\n",
       "    <tr>\n",
       "      <th>2324</th>\n",
       "      <td>Bluetooth Speaker</td>\n",
       "      <td>47.19</td>\n",
       "      <td>1.16</td>\n",
       "      <td>NaN</td>\n",
       "      <td>0.29</td>\n",
       "      <td>0.14</td>\n",
       "      <td>2023-03-22</td>\n",
       "      <td>Port of Tianjin (China)</td>\n",
       "      <td>NaN</td>\n",
       "    </tr>\n",
       "    <tr>\n",
       "      <th>2924</th>\n",
       "      <td>Pallete of Canned Fruit</td>\n",
       "      <td>145.83</td>\n",
       "      <td>452.57</td>\n",
       "      <td>NaN</td>\n",
       "      <td>0.94</td>\n",
       "      <td>1.43</td>\n",
       "      <td>2023-03-13</td>\n",
       "      <td>Port of Busan (South Korea)</td>\n",
       "      <td>NaN</td>\n",
       "    </tr>\n",
       "    <tr>\n",
       "      <th>3587</th>\n",
       "      <td>Steel Bars</td>\n",
       "      <td>170.51</td>\n",
       "      <td>56.71</td>\n",
       "      <td>NaN</td>\n",
       "      <td>0.19</td>\n",
       "      <td>0.84</td>\n",
       "      <td>2023-03-18</td>\n",
       "      <td>Port of Shanghai (China)</td>\n",
       "      <td>NaN</td>\n",
       "    </tr>\n",
       "    <tr>\n",
       "      <th>6918</th>\n",
       "      <td>Soccer Ball</td>\n",
       "      <td>18.69</td>\n",
       "      <td>0.48</td>\n",
       "      <td>NaN</td>\n",
       "      <td>0.24</td>\n",
       "      <td>0.22</td>\n",
       "      <td>2023-03-25</td>\n",
       "      <td>Port of Tianjin (China)</td>\n",
       "      <td>NaN</td>\n",
       "    </tr>\n",
       "    <tr>\n",
       "      <th>...</th>\n",
       "      <td>...</td>\n",
       "      <td>...</td>\n",
       "      <td>...</td>\n",
       "      <td>...</td>\n",
       "      <td>...</td>\n",
       "      <td>...</td>\n",
       "      <td>...</td>\n",
       "      <td>...</td>\n",
       "      <td>...</td>\n",
       "    </tr>\n",
       "    <tr>\n",
       "      <th>257142</th>\n",
       "      <td>Electric Toothbrush</td>\n",
       "      <td>46.90</td>\n",
       "      <td>0.24</td>\n",
       "      <td>NaN</td>\n",
       "      <td>0.05</td>\n",
       "      <td>0.08</td>\n",
       "      <td>2023-03-26</td>\n",
       "      <td>Port of Tokyo (Japan)</td>\n",
       "      <td>NaN</td>\n",
       "    </tr>\n",
       "    <tr>\n",
       "      <th>257875</th>\n",
       "      <td>Refrigerator</td>\n",
       "      <td>953.99</td>\n",
       "      <td>76.89</td>\n",
       "      <td>NaN</td>\n",
       "      <td>1.15</td>\n",
       "      <td>1.65</td>\n",
       "      <td>2023-03-23</td>\n",
       "      <td>Port of Shanghai (China)</td>\n",
       "      <td>NaN</td>\n",
       "    </tr>\n",
       "    <tr>\n",
       "      <th>258806</th>\n",
       "      <td>Desk Chair</td>\n",
       "      <td>156.92</td>\n",
       "      <td>7.05</td>\n",
       "      <td>NaN</td>\n",
       "      <td>0.72</td>\n",
       "      <td>0.79</td>\n",
       "      <td>2023-03-13</td>\n",
       "      <td>Port of Tokyo (Japan)</td>\n",
       "      <td>NaN</td>\n",
       "    </tr>\n",
       "    <tr>\n",
       "      <th>261894</th>\n",
       "      <td>Medium Shipping Tube</td>\n",
       "      <td>9.32</td>\n",
       "      <td>0.46</td>\n",
       "      <td>NaN</td>\n",
       "      <td>0.17</td>\n",
       "      <td>0.64</td>\n",
       "      <td>2023-03-14</td>\n",
       "      <td>Port of Tianjin (China)</td>\n",
       "      <td>NaN</td>\n",
       "    </tr>\n",
       "    <tr>\n",
       "      <th>263646</th>\n",
       "      <td>E-Reader</td>\n",
       "      <td>179.79</td>\n",
       "      <td>0.25</td>\n",
       "      <td>NaN</td>\n",
       "      <td>0.16</td>\n",
       "      <td>0.01</td>\n",
       "      <td>2023-03-16</td>\n",
       "      <td>Port of Tianjin (China)</td>\n",
       "      <td>NaN</td>\n",
       "    </tr>\n",
       "  </tbody>\n",
       "</table>\n",
       "<p>184 rows × 9 columns</p>\n",
       "</div>"
      ],
      "text/plain": [
       "                           name  price ($)  weight (kg)  length (m)  \\\n",
       "2103    Pallete of Orange Juice     201.04       567.89         NaN   \n",
       "2324          Bluetooth Speaker      47.19         1.16         NaN   \n",
       "2924    Pallete of Canned Fruit     145.83       452.57         NaN   \n",
       "3587                 Steel Bars     170.51        56.71         NaN   \n",
       "6918                Soccer Ball      18.69         0.48         NaN   \n",
       "...                         ...        ...          ...         ...   \n",
       "257142      Electric Toothbrush      46.90         0.24         NaN   \n",
       "257875             Refrigerator     953.99        76.89         NaN   \n",
       "258806               Desk Chair     156.92         7.05         NaN   \n",
       "261894     Medium Shipping Tube       9.32         0.46         NaN   \n",
       "263646                 E-Reader     179.79         0.25         NaN   \n",
       "\n",
       "        width (m)  height (m) shipment date             destination port  \\\n",
       "2103         0.82        1.35    2023-03-14  Port of Busan (South Korea)   \n",
       "2324         0.29        0.14    2023-03-22      Port of Tianjin (China)   \n",
       "2924         0.94        1.43    2023-03-13  Port of Busan (South Korea)   \n",
       "3587         0.19        0.84    2023-03-18     Port of Shanghai (China)   \n",
       "6918         0.24        0.22    2023-03-25      Port of Tianjin (China)   \n",
       "...           ...         ...           ...                          ...   \n",
       "257142       0.05        0.08    2023-03-26        Port of Tokyo (Japan)   \n",
       "257875       1.15        1.65    2023-03-23     Port of Shanghai (China)   \n",
       "258806       0.72        0.79    2023-03-13        Port of Tokyo (Japan)   \n",
       "261894       0.17        0.64    2023-03-14      Port of Tianjin (China)   \n",
       "263646       0.16        0.01    2023-03-16      Port of Tianjin (China)   \n",
       "\n",
       "        volume  \n",
       "2103       NaN  \n",
       "2324       NaN  \n",
       "2924       NaN  \n",
       "3587       NaN  \n",
       "6918       NaN  \n",
       "...        ...  \n",
       "257142     NaN  \n",
       "257875     NaN  \n",
       "258806     NaN  \n",
       "261894     NaN  \n",
       "263646     NaN  \n",
       "\n",
       "[184 rows x 9 columns]"
      ]
     },
     "execution_count": 94,
     "metadata": {},
     "output_type": "execute_result"
    }
   ],
   "source": [
    "df.loc[df['length (m)'].isnull() == True]"
   ]
  },
  {
   "cell_type": "code",
   "execution_count": 57,
   "id": "b4ce6a7b",
   "metadata": {},
   "outputs": [
    {
     "data": {
      "text/plain": [
       "array([1.11, 1.14, 1.17, 1.13, 1.01, 1.2 ,  nan, 1.18, 1.02, 1.06, 1.09,\n",
       "       1.15, 1.19, 1.  , 1.1 , 1.03, 1.16, 1.05, 1.07, 1.12, 1.04, 1.08])"
      ]
     },
     "execution_count": 57,
     "metadata": {},
     "output_type": "execute_result"
    }
   ],
   "source": [
    "df.loc[df['name'] == 'Pallete of Orange Juice', 'length (m)'].unique()"
   ]
  },
  {
   "cell_type": "code",
   "execution_count": 61,
   "id": "de981f98",
   "metadata": {},
   "outputs": [
    {
     "data": {
      "text/plain": [
       "array([0.21, 0.23, 0.24, 0.3 , 0.25, 0.28, 0.22, 0.26,  nan, 0.29, 0.27,\n",
       "       0.2 ])"
      ]
     },
     "execution_count": 61,
     "metadata": {},
     "output_type": "execute_result"
    }
   ],
   "source": [
    "df.loc[df['name'] == 'Bluetooth Speaker', 'length (m)'].unique()"
   ]
  },
  {
   "cell_type": "code",
   "execution_count": 63,
   "id": "34f4a8f7",
   "metadata": {},
   "outputs": [
    {
     "data": {
      "text/plain": [
       "array([1.07, 1.11, 1.15, 1.17, 1.04, 1.16,  nan, 1.06, 1.1 , 1.05, 1.01,\n",
       "       1.18, 1.02, 1.09, 1.08, 1.14, 1.12, 1.13, 1.  , 1.03, 1.19, 1.2 ])"
      ]
     },
     "execution_count": 63,
     "metadata": {},
     "output_type": "execute_result"
    }
   ],
   "source": [
    "df.loc[df['name'] == 'Pallete of Canned Fruit', 'length (m)'].unique()"
   ]
  },
  {
   "cell_type": "code",
   "execution_count": 64,
   "id": "405d3453",
   "metadata": {},
   "outputs": [
    {
     "data": {
      "text/plain": [
       "array([2.39, 2.77, 2.05, 2.11, 2.53, 2.1 ,  nan, 2.68, 2.47, 2.17, 2.08,\n",
       "       2.29, 2.98, 2.04, 2.48, 2.52, 2.31, 2.35, 2.19, 2.72, 2.23, 2.22,\n",
       "       2.57, 2.7 , 2.65, 2.8 , 2.14, 2.24, 2.45, 2.13, 2.81, 2.71, 2.99,\n",
       "       2.94, 2.62, 2.67, 2.66, 2.76, 2.92, 2.93, 2.59, 2.51, 2.21, 2.95,\n",
       "       2.28, 2.86, 2.15, 2.49, 2.89, 2.36, 2.63, 2.64, 2.02, 2.55, 2.18,\n",
       "       2.79, 2.88, 2.34, 2.16, 2.25, 2.2 , 2.03, 2.56, 2.82, 2.9 , 2.33,\n",
       "       2.43, 2.5 , 2.87, 2.27, 2.44, 2.07, 2.58, 2.85, 2.4 , 2.09, 2.91,\n",
       "       2.41, 2.42, 2.26, 2.69, 2.32, 2.97, 2.96, 2.3 , 2.12, 2.74, 3.  ,\n",
       "       2.01, 2.37, 2.06, 2.6 , 2.  , 2.46, 2.84, 2.73, 2.75, 2.61, 2.83,\n",
       "       2.78, 2.54, 2.38])"
      ]
     },
     "execution_count": 64,
     "metadata": {},
     "output_type": "execute_result"
    }
   ],
   "source": [
    "df.loc[df['name'] == 'Steel Bars', 'length (m)'].unique()"
   ]
  },
  {
   "cell_type": "code",
   "execution_count": 77,
   "id": "645f898d",
   "metadata": {},
   "outputs": [
    {
     "data": {
      "text/plain": [
       "array(['Pallete of Orange Juice', 'Bluetooth Speaker',\n",
       "       'Pallete of Canned Fruit', 'Steel Bars', 'Soccer Ball',\n",
       "       'Hiking Boots', 'Floor Lamp', 'Small Bubble Mailer', 'Fridge',\n",
       "       'Sleeping Bag', 'Large Box', 'Small Padded Envelope', 'Oranges',\n",
       "       'Pallete of Beer Cases', 'Gym Bag', 'Insulation Rolls', 'Hoe',\n",
       "       'Medium Box', 'Large Flat Rate Box', 'ATV', 'Keyboard',\n",
       "       'Television', 'Gardening Gloves', 'Pallete of Magazines',\n",
       "       'Wheat Flour', 'Garden Hose', 'Mattress', 'Pallete of Coffee',\n",
       "       'Laptop', 'Running Belt', 'Snowboard', 'Movie Night Pack',\n",
       "       'Laptop Backpack', 'Healthy Snack Pack', 'Bag of Rice', 'Toaster',\n",
       "       'Kitchen Knife Set', 'Microwave', 'Gaming Console',\n",
       "       'Electric Kettle', 'Wine Opener', 'Pallete of Cement',\n",
       "       'Showerhead', 'Carton of Eggs', 'Wheelbarrow', 'Small Desk',\n",
       "       'Bricks', 'Jump Rope', 'Pallete of Cookies', 'Couch',\n",
       "       'Extra Large Box', 'Small Flat Rate Box',\n",
       "       'Pallete of Plastic Cups', 'Sunglasses', 'Resistance Bands',\n",
       "       'Large Bubble Mailer', 'Picture Frame', 'Jar of Pasta Sauce',\n",
       "       'Digital Camera', 'Big Bag with Rocks', 'TV Stand', 'Small Box',\n",
       "       'Headphones', 'Camping Stove', 'Foam Roller', 'Coffee Maker',\n",
       "       'Resistance Loop Bands', 'Sports Car', 'Bananas', 'TV',\n",
       "       'Big Bag with Fertilizer', 'Measuring Cups and Spoons',\n",
       "       'Folding Table', 'Generators', 'Drone', 'Dining Table',\n",
       "       'Refrigerator', 'Watering Can', 'Tennis Racket', 'Camera',\n",
       "       'Dog Crate', 'Mixed Dried Fruits', 'Pallete of Computers',\n",
       "       'Gaming Mouse', 'Pallete of Breakfast Cereal', 'Drum Set',\n",
       "       'Assorted Chocolates', 'Camera Bag', 'Leaf Blower',\n",
       "       'Pallete of Bananas', 'Pallete of Tires', 'Water Heater', 'Sofa',\n",
       "       'Bookshelf', 'Bag of Flour', 'Pallete of Musical Instruments',\n",
       "       'Pallete of Books', 'Box of Books', 'Whey Protein Powder',\n",
       "       'Forklift', 'Big Bag with Metal Scraps',\n",
       "       'Portable Bluetooth Keyboard', 'Pallete of Wine Bottles',\n",
       "       'Big Bag with Paper Scraps', 'Pruning Shears', 'Coffee Table',\n",
       "       'Sewing Machine', 'Pallete of Smartphones', 'Computer Monitor',\n",
       "       'Hair Dryer', 'Large Desk', 'Sprinkler System', 'Flute',\n",
       "       'Cookware Set', 'Garden Sprayer', 'Fan', 'Pallete of Paper Towels',\n",
       "       'Pineapple (Canned)', 'Pallete of Tea', 'Cycling Helmet',\n",
       "       'Coffee Beans', 'Weed Eater', 'Smartphone Gimbal',\n",
       "       'Large Shipping Tube', 'Beach Towel', 'Bed',\n",
       "       'Pallete of Cleaning Products', 'Microphone',\n",
       "       'Large Padded Envelope', 'Planting Trowel', 'Electric Toothbrush',\n",
       "       'Desk Chair', 'Medium Shipping Tube', 'E-Reader'], dtype=object)"
      ]
     },
     "execution_count": 77,
     "metadata": {},
     "output_type": "execute_result"
    }
   ],
   "source": [
    "#видим выше, что значения вариьруются у одинаковых категорий примерно в одном диапазоне. Находим все уникальные значения таких категорий.\n",
    "df.loc[df['length (m)'].isnull() == True, 'name'].unique()"
   ]
  },
  {
   "cell_type": "code",
   "execution_count": 78,
   "id": "f590698a",
   "metadata": {},
   "outputs": [
    {
     "data": {
      "text/plain": [
       "134"
      ]
     },
     "execution_count": 78,
     "metadata": {},
     "output_type": "execute_result"
    }
   ],
   "source": [
    "df.loc[df['length (m)'].isnull() == True, 'name'].nunique()"
   ]
  },
  {
   "cell_type": "code",
   "execution_count": 97,
   "id": "51cbed4e",
   "metadata": {},
   "outputs": [],
   "source": [
    "#выяснив, что длина грузов определенного типа в общем схожа, заменяем отсутствующие значения на средние для грузов этой категории\n",
    "for x in df.loc[df['length (m)'].isnull() == True, 'name'].unique():\n",
    "    df.loc[df['name'] == x, 'length (m)'] = df.loc[df['name'] == x, 'length (m)'].fillna(df.loc[df['name'] == x, 'length (m)'].mean())"
   ]
  },
  {
   "cell_type": "code",
   "execution_count": 98,
   "id": "5b47776e",
   "metadata": {},
   "outputs": [
    {
     "data": {
      "text/plain": [
       "name                   0\n",
       "price ($)              0\n",
       "weight (kg)            0\n",
       "length (m)             0\n",
       "width (m)              0\n",
       "height (m)             0\n",
       "shipment date       2638\n",
       "destination port      26\n",
       "volume               184\n",
       "dtype: int64"
      ]
     },
     "execution_count": 98,
     "metadata": {},
     "output_type": "execute_result"
    }
   ],
   "source": [
    "df.isnull().sum()"
   ]
  },
  {
   "cell_type": "code",
   "execution_count": 130,
   "id": "774b964c",
   "metadata": {},
   "outputs": [
    {
     "data": {
      "text/html": [
       "<div>\n",
       "<style scoped>\n",
       "    .dataframe tbody tr th:only-of-type {\n",
       "        vertical-align: middle;\n",
       "    }\n",
       "\n",
       "    .dataframe tbody tr th {\n",
       "        vertical-align: top;\n",
       "    }\n",
       "\n",
       "    .dataframe thead th {\n",
       "        text-align: right;\n",
       "    }\n",
       "</style>\n",
       "<table border=\"1\" class=\"dataframe\">\n",
       "  <thead>\n",
       "    <tr style=\"text-align: right;\">\n",
       "      <th></th>\n",
       "      <th>name</th>\n",
       "      <th>price ($)</th>\n",
       "      <th>weight (kg)</th>\n",
       "      <th>length (m)</th>\n",
       "      <th>width (m)</th>\n",
       "      <th>height (m)</th>\n",
       "      <th>shipment date</th>\n",
       "      <th>destination port</th>\n",
       "      <th>volume</th>\n",
       "    </tr>\n",
       "  </thead>\n",
       "  <tbody>\n",
       "    <tr>\n",
       "      <th>97</th>\n",
       "      <td>Bed</td>\n",
       "      <td>164.59</td>\n",
       "      <td>86.22</td>\n",
       "      <td>2.17</td>\n",
       "      <td>1.86</td>\n",
       "      <td>1.47</td>\n",
       "      <td>NaN</td>\n",
       "      <td>Port of Busan (South Korea)</td>\n",
       "      <td>5.933214</td>\n",
       "    </tr>\n",
       "    <tr>\n",
       "      <th>182</th>\n",
       "      <td>Large Box</td>\n",
       "      <td>21.64</td>\n",
       "      <td>0.98</td>\n",
       "      <td>0.71</td>\n",
       "      <td>0.59</td>\n",
       "      <td>0.35</td>\n",
       "      <td>NaN</td>\n",
       "      <td>Port of Singapore (Singapore)</td>\n",
       "      <td>0.146615</td>\n",
       "    </tr>\n",
       "    <tr>\n",
       "      <th>201</th>\n",
       "      <td>Pallete of Snacks</td>\n",
       "      <td>114.38</td>\n",
       "      <td>428.89</td>\n",
       "      <td>1.12</td>\n",
       "      <td>0.83</td>\n",
       "      <td>1.26</td>\n",
       "      <td>NaN</td>\n",
       "      <td>Port of Tokyo (Japan)</td>\n",
       "      <td>1.171296</td>\n",
       "    </tr>\n",
       "    <tr>\n",
       "      <th>298</th>\n",
       "      <td>Fan</td>\n",
       "      <td>73.69</td>\n",
       "      <td>2.93</td>\n",
       "      <td>0.37</td>\n",
       "      <td>0.30</td>\n",
       "      <td>0.33</td>\n",
       "      <td>NaN</td>\n",
       "      <td>Port of Singapore (Singapore)</td>\n",
       "      <td>0.036630</td>\n",
       "    </tr>\n",
       "    <tr>\n",
       "      <th>367</th>\n",
       "      <td>Pallete of Cat Food</td>\n",
       "      <td>143.41</td>\n",
       "      <td>440.45</td>\n",
       "      <td>1.12</td>\n",
       "      <td>0.93</td>\n",
       "      <td>1.28</td>\n",
       "      <td>NaN</td>\n",
       "      <td>Port of Busan (South Korea)</td>\n",
       "      <td>1.333248</td>\n",
       "    </tr>\n",
       "    <tr>\n",
       "      <th>...</th>\n",
       "      <td>...</td>\n",
       "      <td>...</td>\n",
       "      <td>...</td>\n",
       "      <td>...</td>\n",
       "      <td>...</td>\n",
       "      <td>...</td>\n",
       "      <td>...</td>\n",
       "      <td>...</td>\n",
       "      <td>...</td>\n",
       "    </tr>\n",
       "    <tr>\n",
       "      <th>263296</th>\n",
       "      <td>Pallete of Canned Vegetables</td>\n",
       "      <td>131.80</td>\n",
       "      <td>319.70</td>\n",
       "      <td>1.18</td>\n",
       "      <td>0.93</td>\n",
       "      <td>1.33</td>\n",
       "      <td>NaN</td>\n",
       "      <td>Port of Busan (South Korea)</td>\n",
       "      <td>1.459542</td>\n",
       "    </tr>\n",
       "    <tr>\n",
       "      <th>263636</th>\n",
       "      <td>Bed</td>\n",
       "      <td>381.59</td>\n",
       "      <td>93.15</td>\n",
       "      <td>2.33</td>\n",
       "      <td>1.75</td>\n",
       "      <td>1.15</td>\n",
       "      <td>NaN</td>\n",
       "      <td>Port of Tianjin (China)</td>\n",
       "      <td>4.689125</td>\n",
       "    </tr>\n",
       "    <tr>\n",
       "      <th>263663</th>\n",
       "      <td>Large Padded Envelope</td>\n",
       "      <td>9.27</td>\n",
       "      <td>0.22</td>\n",
       "      <td>0.28</td>\n",
       "      <td>0.11</td>\n",
       "      <td>0.09</td>\n",
       "      <td>NaN</td>\n",
       "      <td>Port of Tianjin (China)</td>\n",
       "      <td>0.002772</td>\n",
       "    </tr>\n",
       "    <tr>\n",
       "      <th>263721</th>\n",
       "      <td>Toaster</td>\n",
       "      <td>39.53</td>\n",
       "      <td>1.01</td>\n",
       "      <td>0.24</td>\n",
       "      <td>0.20</td>\n",
       "      <td>0.25</td>\n",
       "      <td>NaN</td>\n",
       "      <td>Port of Tokyo (Japan)</td>\n",
       "      <td>0.012000</td>\n",
       "    </tr>\n",
       "    <tr>\n",
       "      <th>263795</th>\n",
       "      <td>Small Shipping Tube</td>\n",
       "      <td>3.42</td>\n",
       "      <td>0.23</td>\n",
       "      <td>0.20</td>\n",
       "      <td>0.06</td>\n",
       "      <td>0.34</td>\n",
       "      <td>NaN</td>\n",
       "      <td>Port of Busan (South Korea)</td>\n",
       "      <td>0.004080</td>\n",
       "    </tr>\n",
       "  </tbody>\n",
       "</table>\n",
       "<p>2638 rows × 9 columns</p>\n",
       "</div>"
      ],
      "text/plain": [
       "                                name  price ($)  weight (kg)  length (m)  \\\n",
       "97                               Bed     164.59        86.22        2.17   \n",
       "182                        Large Box      21.64         0.98        0.71   \n",
       "201                Pallete of Snacks     114.38       428.89        1.12   \n",
       "298                              Fan      73.69         2.93        0.37   \n",
       "367              Pallete of Cat Food     143.41       440.45        1.12   \n",
       "...                              ...        ...          ...         ...   \n",
       "263296  Pallete of Canned Vegetables     131.80       319.70        1.18   \n",
       "263636                           Bed     381.59        93.15        2.33   \n",
       "263663         Large Padded Envelope       9.27         0.22        0.28   \n",
       "263721                       Toaster      39.53         1.01        0.24   \n",
       "263795           Small Shipping Tube       3.42         0.23        0.20   \n",
       "\n",
       "        width (m)  height (m) shipment date               destination port  \\\n",
       "97           1.86        1.47           NaN    Port of Busan (South Korea)   \n",
       "182          0.59        0.35           NaN  Port of Singapore (Singapore)   \n",
       "201          0.83        1.26           NaN          Port of Tokyo (Japan)   \n",
       "298          0.30        0.33           NaN  Port of Singapore (Singapore)   \n",
       "367          0.93        1.28           NaN    Port of Busan (South Korea)   \n",
       "...           ...         ...           ...                            ...   \n",
       "263296       0.93        1.33           NaN    Port of Busan (South Korea)   \n",
       "263636       1.75        1.15           NaN        Port of Tianjin (China)   \n",
       "263663       0.11        0.09           NaN        Port of Tianjin (China)   \n",
       "263721       0.20        0.25           NaN          Port of Tokyo (Japan)   \n",
       "263795       0.06        0.34           NaN    Port of Busan (South Korea)   \n",
       "\n",
       "          volume  \n",
       "97      5.933214  \n",
       "182     0.146615  \n",
       "201     1.171296  \n",
       "298     0.036630  \n",
       "367     1.333248  \n",
       "...          ...  \n",
       "263296  1.459542  \n",
       "263636  4.689125  \n",
       "263663  0.002772  \n",
       "263721  0.012000  \n",
       "263795  0.004080  \n",
       "\n",
       "[2638 rows x 9 columns]"
      ]
     },
     "execution_count": 130,
     "metadata": {},
     "output_type": "execute_result"
    }
   ],
   "source": [
    "df.loc[df['shipment date'].isnull() == True]"
   ]
  },
  {
   "cell_type": "code",
   "execution_count": 131,
   "id": "3486c412",
   "metadata": {},
   "outputs": [
    {
     "data": {
      "text/plain": [
       "2023-03-18    15499\n",
       "2023-03-23    15458\n",
       "2023-03-14    15451\n",
       "2023-03-12    15450\n",
       "2023-03-25    15410\n",
       "2023-03-13    15409\n",
       "2023-03-15    15393\n",
       "2023-03-21    15390\n",
       "2023-03-16    15389\n",
       "2023-03-28    15384\n",
       "2023-03-27    15380\n",
       "2023-03-19    15345\n",
       "2023-03-24    15319\n",
       "2023-03-22    15310\n",
       "2023-03-17    15259\n",
       "2023-03-20    15227\n",
       "2023-03-26    15110\n",
       "Name: shipment date, dtype: int64"
      ]
     },
     "execution_count": 131,
     "metadata": {},
     "output_type": "execute_result"
    }
   ],
   "source": [
    "df['shipment date'].value_counts(ascending=False)"
   ]
  },
  {
   "cell_type": "code",
   "execution_count": 132,
   "id": "e5b82c92",
   "metadata": {},
   "outputs": [],
   "source": [
    "#заменяем пустые значения в столбце даты на самое редкое значение для каждой категории, усредняя ежедневные отправки\n",
    "for x in df.loc[df['shipment date'].isnull() == True, 'name'].unique():\n",
    "    df.loc[df['name'] == x, 'shipment date'] = df.loc[df['name'] == x, 'shipment date'].fillna(df.loc[df['name'] == 'Bed', 'shipment date'].value_counts().idxmin())"
   ]
  },
  {
   "cell_type": "code",
   "execution_count": 133,
   "id": "44a9b2ff",
   "metadata": {},
   "outputs": [
    {
     "data": {
      "text/plain": [
       "name                  0\n",
       "price ($)             0\n",
       "weight (kg)           0\n",
       "length (m)            0\n",
       "width (m)             0\n",
       "height (m)            0\n",
       "shipment date         0\n",
       "destination port     26\n",
       "volume              184\n",
       "dtype: int64"
      ]
     },
     "execution_count": 133,
     "metadata": {},
     "output_type": "execute_result"
    }
   ],
   "source": [
    "df.isnull().sum()"
   ]
  },
  {
   "cell_type": "code",
   "execution_count": 134,
   "id": "581cae78",
   "metadata": {},
   "outputs": [
    {
     "data": {
      "text/html": [
       "<div>\n",
       "<style scoped>\n",
       "    .dataframe tbody tr th:only-of-type {\n",
       "        vertical-align: middle;\n",
       "    }\n",
       "\n",
       "    .dataframe tbody tr th {\n",
       "        vertical-align: top;\n",
       "    }\n",
       "\n",
       "    .dataframe thead th {\n",
       "        text-align: right;\n",
       "    }\n",
       "</style>\n",
       "<table border=\"1\" class=\"dataframe\">\n",
       "  <thead>\n",
       "    <tr style=\"text-align: right;\">\n",
       "      <th></th>\n",
       "      <th>name</th>\n",
       "      <th>price ($)</th>\n",
       "      <th>weight (kg)</th>\n",
       "      <th>length (m)</th>\n",
       "      <th>width (m)</th>\n",
       "      <th>height (m)</th>\n",
       "      <th>shipment date</th>\n",
       "      <th>destination port</th>\n",
       "      <th>volume</th>\n",
       "    </tr>\n",
       "  </thead>\n",
       "  <tbody>\n",
       "    <tr>\n",
       "      <th>11605</th>\n",
       "      <td>Refrigerator</td>\n",
       "      <td>586.45</td>\n",
       "      <td>80.93</td>\n",
       "      <td>1.01</td>\n",
       "      <td>1.10</td>\n",
       "      <td>1.75</td>\n",
       "      <td>2023-03-17</td>\n",
       "      <td>NaN</td>\n",
       "      <td>1.944250</td>\n",
       "    </tr>\n",
       "    <tr>\n",
       "      <th>17677</th>\n",
       "      <td>Sailboat</td>\n",
       "      <td>80464.26</td>\n",
       "      <td>2086.81</td>\n",
       "      <td>16.37</td>\n",
       "      <td>2.17</td>\n",
       "      <td>3.60</td>\n",
       "      <td>2023-03-26</td>\n",
       "      <td>NaN</td>\n",
       "      <td>127.882440</td>\n",
       "    </tr>\n",
       "    <tr>\n",
       "      <th>52486</th>\n",
       "      <td>Water Heater</td>\n",
       "      <td>60.48</td>\n",
       "      <td>7.56</td>\n",
       "      <td>0.47</td>\n",
       "      <td>0.30</td>\n",
       "      <td>0.15</td>\n",
       "      <td>2023-03-26</td>\n",
       "      <td>NaN</td>\n",
       "      <td>0.021150</td>\n",
       "    </tr>\n",
       "    <tr>\n",
       "      <th>62201</th>\n",
       "      <td>Pallete of Plants</td>\n",
       "      <td>294.53</td>\n",
       "      <td>585.30</td>\n",
       "      <td>1.09</td>\n",
       "      <td>0.99</td>\n",
       "      <td>1.31</td>\n",
       "      <td>2023-03-17</td>\n",
       "      <td>NaN</td>\n",
       "      <td>1.413621</td>\n",
       "    </tr>\n",
       "    <tr>\n",
       "      <th>63623</th>\n",
       "      <td>Desk Lamp</td>\n",
       "      <td>11.31</td>\n",
       "      <td>0.56</td>\n",
       "      <td>0.19</td>\n",
       "      <td>0.11</td>\n",
       "      <td>0.22</td>\n",
       "      <td>2023-03-19</td>\n",
       "      <td>NaN</td>\n",
       "      <td>0.004598</td>\n",
       "    </tr>\n",
       "    <tr>\n",
       "      <th>71360</th>\n",
       "      <td>Bricks</td>\n",
       "      <td>74.99</td>\n",
       "      <td>39.86</td>\n",
       "      <td>0.59</td>\n",
       "      <td>0.28</td>\n",
       "      <td>0.10</td>\n",
       "      <td>2023-03-23</td>\n",
       "      <td>NaN</td>\n",
       "      <td>0.016520</td>\n",
       "    </tr>\n",
       "    <tr>\n",
       "      <th>77932</th>\n",
       "      <td>Big Bag with Glass Scraps</td>\n",
       "      <td>209.68</td>\n",
       "      <td>1285.24</td>\n",
       "      <td>1.58</td>\n",
       "      <td>1.16</td>\n",
       "      <td>0.12</td>\n",
       "      <td>2023-03-12</td>\n",
       "      <td>NaN</td>\n",
       "      <td>0.219936</td>\n",
       "    </tr>\n",
       "    <tr>\n",
       "      <th>93927</th>\n",
       "      <td>Coffee Maker</td>\n",
       "      <td>155.14</td>\n",
       "      <td>2.20</td>\n",
       "      <td>0.30</td>\n",
       "      <td>0.25</td>\n",
       "      <td>0.27</td>\n",
       "      <td>2023-03-16</td>\n",
       "      <td>NaN</td>\n",
       "      <td>0.020250</td>\n",
       "    </tr>\n",
       "    <tr>\n",
       "      <th>99584</th>\n",
       "      <td>Mountain Bike</td>\n",
       "      <td>593.38</td>\n",
       "      <td>11.89</td>\n",
       "      <td>1.57</td>\n",
       "      <td>1.16</td>\n",
       "      <td>1.31</td>\n",
       "      <td>2023-03-13</td>\n",
       "      <td>NaN</td>\n",
       "      <td>2.385772</td>\n",
       "    </tr>\n",
       "    <tr>\n",
       "      <th>99810</th>\n",
       "      <td>Running Belt</td>\n",
       "      <td>22.94</td>\n",
       "      <td>0.17</td>\n",
       "      <td>0.22</td>\n",
       "      <td>0.08</td>\n",
       "      <td>0.05</td>\n",
       "      <td>2023-03-13</td>\n",
       "      <td>NaN</td>\n",
       "      <td>0.000880</td>\n",
       "    </tr>\n",
       "    <tr>\n",
       "      <th>99903</th>\n",
       "      <td>Pallete of Plastic Cups</td>\n",
       "      <td>142.79</td>\n",
       "      <td>318.18</td>\n",
       "      <td>1.20</td>\n",
       "      <td>0.80</td>\n",
       "      <td>1.20</td>\n",
       "      <td>2023-03-15</td>\n",
       "      <td>NaN</td>\n",
       "      <td>1.152000</td>\n",
       "    </tr>\n",
       "    <tr>\n",
       "      <th>102489</th>\n",
       "      <td>Tablets</td>\n",
       "      <td>1599.46</td>\n",
       "      <td>0.72</td>\n",
       "      <td>0.56</td>\n",
       "      <td>0.59</td>\n",
       "      <td>0.39</td>\n",
       "      <td>2023-03-19</td>\n",
       "      <td>NaN</td>\n",
       "      <td>0.128856</td>\n",
       "    </tr>\n",
       "    <tr>\n",
       "      <th>132686</th>\n",
       "      <td>Large Shipping Tube</td>\n",
       "      <td>18.22</td>\n",
       "      <td>0.52</td>\n",
       "      <td>0.53</td>\n",
       "      <td>0.33</td>\n",
       "      <td>1.59</td>\n",
       "      <td>2023-03-22</td>\n",
       "      <td>NaN</td>\n",
       "      <td>0.278091</td>\n",
       "    </tr>\n",
       "    <tr>\n",
       "      <th>136690</th>\n",
       "      <td>Large Box</td>\n",
       "      <td>34.98</td>\n",
       "      <td>0.99</td>\n",
       "      <td>0.91</td>\n",
       "      <td>0.53</td>\n",
       "      <td>0.32</td>\n",
       "      <td>2023-03-22</td>\n",
       "      <td>NaN</td>\n",
       "      <td>0.154336</td>\n",
       "    </tr>\n",
       "    <tr>\n",
       "      <th>151361</th>\n",
       "      <td>Skipping Rope</td>\n",
       "      <td>8.78</td>\n",
       "      <td>0.12</td>\n",
       "      <td>1.91</td>\n",
       "      <td>0.09</td>\n",
       "      <td>0.02</td>\n",
       "      <td>2023-03-22</td>\n",
       "      <td>NaN</td>\n",
       "      <td>0.003438</td>\n",
       "    </tr>\n",
       "    <tr>\n",
       "      <th>162575</th>\n",
       "      <td>Pillows</td>\n",
       "      <td>11.77</td>\n",
       "      <td>1.66</td>\n",
       "      <td>0.22</td>\n",
       "      <td>0.24</td>\n",
       "      <td>0.20</td>\n",
       "      <td>2023-03-14</td>\n",
       "      <td>NaN</td>\n",
       "      <td>0.010560</td>\n",
       "    </tr>\n",
       "    <tr>\n",
       "      <th>165135</th>\n",
       "      <td>Couch</td>\n",
       "      <td>528.69</td>\n",
       "      <td>58.69</td>\n",
       "      <td>2.34</td>\n",
       "      <td>1.33</td>\n",
       "      <td>0.95</td>\n",
       "      <td>2023-03-25</td>\n",
       "      <td>NaN</td>\n",
       "      <td>2.956590</td>\n",
       "    </tr>\n",
       "    <tr>\n",
       "      <th>182071</th>\n",
       "      <td>E-Reader</td>\n",
       "      <td>234.97</td>\n",
       "      <td>0.33</td>\n",
       "      <td>0.13</td>\n",
       "      <td>0.20</td>\n",
       "      <td>0.02</td>\n",
       "      <td>2023-03-25</td>\n",
       "      <td>NaN</td>\n",
       "      <td>0.000520</td>\n",
       "    </tr>\n",
       "    <tr>\n",
       "      <th>187256</th>\n",
       "      <td>Jar of Peanut Butter</td>\n",
       "      <td>6.41</td>\n",
       "      <td>0.44</td>\n",
       "      <td>0.17</td>\n",
       "      <td>0.10</td>\n",
       "      <td>0.12</td>\n",
       "      <td>2023-03-26</td>\n",
       "      <td>NaN</td>\n",
       "      <td>0.002040</td>\n",
       "    </tr>\n",
       "    <tr>\n",
       "      <th>188739</th>\n",
       "      <td>Garden Cart</td>\n",
       "      <td>88.20</td>\n",
       "      <td>15.24</td>\n",
       "      <td>1.00</td>\n",
       "      <td>0.93</td>\n",
       "      <td>0.47</td>\n",
       "      <td>2023-03-25</td>\n",
       "      <td>NaN</td>\n",
       "      <td>0.437100</td>\n",
       "    </tr>\n",
       "    <tr>\n",
       "      <th>189355</th>\n",
       "      <td>Roofing Shingles</td>\n",
       "      <td>20.87</td>\n",
       "      <td>6.35</td>\n",
       "      <td>0.92</td>\n",
       "      <td>0.83</td>\n",
       "      <td>0.06</td>\n",
       "      <td>2023-03-24</td>\n",
       "      <td>NaN</td>\n",
       "      <td>0.045816</td>\n",
       "    </tr>\n",
       "    <tr>\n",
       "      <th>202401</th>\n",
       "      <td>Roofing Shingles</td>\n",
       "      <td>25.23</td>\n",
       "      <td>7.57</td>\n",
       "      <td>0.99</td>\n",
       "      <td>0.81</td>\n",
       "      <td>0.06</td>\n",
       "      <td>2023-03-14</td>\n",
       "      <td>NaN</td>\n",
       "      <td>0.048114</td>\n",
       "    </tr>\n",
       "    <tr>\n",
       "      <th>205198</th>\n",
       "      <td>Pallete of Cement</td>\n",
       "      <td>433.32</td>\n",
       "      <td>950.35</td>\n",
       "      <td>1.42</td>\n",
       "      <td>0.86</td>\n",
       "      <td>1.20</td>\n",
       "      <td>2023-03-19</td>\n",
       "      <td>NaN</td>\n",
       "      <td>1.465440</td>\n",
       "    </tr>\n",
       "    <tr>\n",
       "      <th>214582</th>\n",
       "      <td>Microwave Oven</td>\n",
       "      <td>101.64</td>\n",
       "      <td>13.56</td>\n",
       "      <td>0.56</td>\n",
       "      <td>0.45</td>\n",
       "      <td>0.29</td>\n",
       "      <td>2023-03-17</td>\n",
       "      <td>NaN</td>\n",
       "      <td>0.073080</td>\n",
       "    </tr>\n",
       "    <tr>\n",
       "      <th>234568</th>\n",
       "      <td>Violin</td>\n",
       "      <td>504.99</td>\n",
       "      <td>1.32</td>\n",
       "      <td>0.26</td>\n",
       "      <td>0.12</td>\n",
       "      <td>0.08</td>\n",
       "      <td>2023-03-14</td>\n",
       "      <td>NaN</td>\n",
       "      <td>0.002496</td>\n",
       "    </tr>\n",
       "    <tr>\n",
       "      <th>260383</th>\n",
       "      <td>External Hard Drives</td>\n",
       "      <td>448.75</td>\n",
       "      <td>1.31</td>\n",
       "      <td>0.64</td>\n",
       "      <td>0.29</td>\n",
       "      <td>0.49</td>\n",
       "      <td>2023-03-12</td>\n",
       "      <td>NaN</td>\n",
       "      <td>0.090944</td>\n",
       "    </tr>\n",
       "  </tbody>\n",
       "</table>\n",
       "</div>"
      ],
      "text/plain": [
       "                             name  price ($)  weight (kg)  length (m)  \\\n",
       "11605                Refrigerator     586.45        80.93        1.01   \n",
       "17677                    Sailboat   80464.26      2086.81       16.37   \n",
       "52486                Water Heater      60.48         7.56        0.47   \n",
       "62201           Pallete of Plants     294.53       585.30        1.09   \n",
       "63623                   Desk Lamp      11.31         0.56        0.19   \n",
       "71360                      Bricks      74.99        39.86        0.59   \n",
       "77932   Big Bag with Glass Scraps     209.68      1285.24        1.58   \n",
       "93927                Coffee Maker     155.14         2.20        0.30   \n",
       "99584               Mountain Bike     593.38        11.89        1.57   \n",
       "99810                Running Belt      22.94         0.17        0.22   \n",
       "99903     Pallete of Plastic Cups     142.79       318.18        1.20   \n",
       "102489                    Tablets    1599.46         0.72        0.56   \n",
       "132686        Large Shipping Tube      18.22         0.52        0.53   \n",
       "136690                  Large Box      34.98         0.99        0.91   \n",
       "151361              Skipping Rope       8.78         0.12        1.91   \n",
       "162575                    Pillows      11.77         1.66        0.22   \n",
       "165135                      Couch     528.69        58.69        2.34   \n",
       "182071                   E-Reader     234.97         0.33        0.13   \n",
       "187256       Jar of Peanut Butter       6.41         0.44        0.17   \n",
       "188739                Garden Cart      88.20        15.24        1.00   \n",
       "189355           Roofing Shingles      20.87         6.35        0.92   \n",
       "202401           Roofing Shingles      25.23         7.57        0.99   \n",
       "205198          Pallete of Cement     433.32       950.35        1.42   \n",
       "214582             Microwave Oven     101.64        13.56        0.56   \n",
       "234568                     Violin     504.99         1.32        0.26   \n",
       "260383       External Hard Drives     448.75         1.31        0.64   \n",
       "\n",
       "        width (m)  height (m) shipment date destination port      volume  \n",
       "11605        1.10        1.75    2023-03-17              NaN    1.944250  \n",
       "17677        2.17        3.60    2023-03-26              NaN  127.882440  \n",
       "52486        0.30        0.15    2023-03-26              NaN    0.021150  \n",
       "62201        0.99        1.31    2023-03-17              NaN    1.413621  \n",
       "63623        0.11        0.22    2023-03-19              NaN    0.004598  \n",
       "71360        0.28        0.10    2023-03-23              NaN    0.016520  \n",
       "77932        1.16        0.12    2023-03-12              NaN    0.219936  \n",
       "93927        0.25        0.27    2023-03-16              NaN    0.020250  \n",
       "99584        1.16        1.31    2023-03-13              NaN    2.385772  \n",
       "99810        0.08        0.05    2023-03-13              NaN    0.000880  \n",
       "99903        0.80        1.20    2023-03-15              NaN    1.152000  \n",
       "102489       0.59        0.39    2023-03-19              NaN    0.128856  \n",
       "132686       0.33        1.59    2023-03-22              NaN    0.278091  \n",
       "136690       0.53        0.32    2023-03-22              NaN    0.154336  \n",
       "151361       0.09        0.02    2023-03-22              NaN    0.003438  \n",
       "162575       0.24        0.20    2023-03-14              NaN    0.010560  \n",
       "165135       1.33        0.95    2023-03-25              NaN    2.956590  \n",
       "182071       0.20        0.02    2023-03-25              NaN    0.000520  \n",
       "187256       0.10        0.12    2023-03-26              NaN    0.002040  \n",
       "188739       0.93        0.47    2023-03-25              NaN    0.437100  \n",
       "189355       0.83        0.06    2023-03-24              NaN    0.045816  \n",
       "202401       0.81        0.06    2023-03-14              NaN    0.048114  \n",
       "205198       0.86        1.20    2023-03-19              NaN    1.465440  \n",
       "214582       0.45        0.29    2023-03-17              NaN    0.073080  \n",
       "234568       0.12        0.08    2023-03-14              NaN    0.002496  \n",
       "260383       0.29        0.49    2023-03-12              NaN    0.090944  "
      ]
     },
     "execution_count": 134,
     "metadata": {},
     "output_type": "execute_result"
    }
   ],
   "source": [
    "df.loc[df['destination port'].isnull() == True]"
   ]
  },
  {
   "cell_type": "code",
   "execution_count": 139,
   "id": "c6222bc9",
   "metadata": {},
   "outputs": [
    {
     "data": {
      "text/plain": [
       "'Port of Busan (South Korea)'"
      ]
     },
     "execution_count": 139,
     "metadata": {},
     "output_type": "execute_result"
    }
   ],
   "source": [
    "df.loc[df['name'] == 'Refrigerator','destination port'].value_counts().idxmax()"
   ]
  },
  {
   "cell_type": "code",
   "execution_count": 137,
   "id": "7540665a",
   "metadata": {},
   "outputs": [
    {
     "data": {
      "text/plain": [
       "Port of Busan (South Korea)      53157\n",
       "Port of Tianjin (China)          53111\n",
       "Port of Tokyo (Japan)            52833\n",
       "Port of Singapore (Singapore)    52393\n",
       "Port of Shanghai (China)         52301\n",
       "Name: destination port, dtype: int64"
      ]
     },
     "execution_count": 137,
     "metadata": {},
     "output_type": "execute_result"
    }
   ],
   "source": [
    "df['destination port'].value_counts(ascending=False)"
   ]
  },
  {
   "cell_type": "code",
   "execution_count": 146,
   "id": "68564b44",
   "metadata": {},
   "outputs": [
    {
     "name": "stdout",
     "output_type": "stream",
     "text": [
      "Refrigerator  ----  Port of Busan (South Korea)\n",
      "Sailboat  ----  Port of Tianjin (China)\n",
      "Water Heater  ----  Port of Busan (South Korea)\n",
      "Pallete of Plants  ----  Port of Singapore (Singapore)\n",
      "Desk Lamp  ----  Port of Tianjin (China)\n",
      "Bricks  ----  Port of Busan (South Korea)\n",
      "Big Bag with Glass Scraps  ----  Port of Singapore (Singapore)\n",
      "Coffee Maker  ----  Port of Tianjin (China)\n",
      "Mountain Bike  ----  Port of Shanghai (China)\n",
      "Running Belt  ----  Port of Tianjin (China)\n",
      "Pallete of Plastic Cups  ----  Port of Singapore (Singapore)\n",
      "Tablets  ----  Port of Singapore (Singapore)\n",
      "Large Shipping Tube  ----  Port of Tokyo (Japan)\n",
      "Large Box  ----  Port of Busan (South Korea)\n",
      "Skipping Rope  ----  Port of Tokyo (Japan)\n",
      "Pillows  ----  Port of Tokyo (Japan)\n",
      "Couch  ----  Port of Shanghai (China)\n",
      "E-Reader  ----  Port of Tianjin (China)\n",
      "Jar of Peanut Butter  ----  Port of Shanghai (China)\n",
      "Garden Cart  ----  Port of Singapore (Singapore)\n",
      "Roofing Shingles  ----  Port of Busan (South Korea)\n",
      "Pallete of Cement  ----  Port of Shanghai (China)\n",
      "Microwave Oven  ----  Port of Busan (South Korea)\n",
      "Violin  ----  Port of Tianjin (China)\n",
      "External Hard Drives  ----  Port of Busan (South Korea)\n"
     ]
    }
   ],
   "source": [
    "for x in df.loc[df['destination port'].isnull() == True, 'name'].unique():\n",
    "    print(x,' ---- ', df.loc[df['name'] == x,'destination port'].value_counts().idxmax())\n"
   ]
  },
  {
   "cell_type": "code",
   "execution_count": 148,
   "id": "d464f5a8",
   "metadata": {},
   "outputs": [
    {
     "data": {
      "text/plain": [
       "Port of Busan (South Korea)      160\n",
       "Port of Tianjin (China)          149\n",
       "Port of Shanghai (China)         134\n",
       "Port of Singapore (Singapore)    132\n",
       "Port of Tokyo (Japan)            116\n",
       "Name: destination port, dtype: int64"
      ]
     },
     "execution_count": 148,
     "metadata": {},
     "output_type": "execute_result"
    }
   ],
   "source": [
    "df.loc[df['name'] == 'Water Heater', 'destination port'].value_counts(ascending=False)"
   ]
  },
  {
   "cell_type": "code",
   "execution_count": null,
   "id": "a4d337be",
   "metadata": {},
   "outputs": [],
   "source": []
  }
 ],
 "metadata": {
  "kernelspec": {
   "display_name": "Python 3 (ipykernel)",
   "language": "python",
   "name": "python3"
  },
  "language_info": {
   "codemirror_mode": {
    "name": "ipython",
    "version": 3
   },
   "file_extension": ".py",
   "mimetype": "text/x-python",
   "name": "python",
   "nbconvert_exporter": "python",
   "pygments_lexer": "ipython3",
   "version": "3.11.1"
  }
 },
 "nbformat": 4,
 "nbformat_minor": 5
}
